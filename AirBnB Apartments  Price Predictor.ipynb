{
 "cells": [
  {
   "cell_type": "markdown",
   "metadata": {},
   "source": [
    "# Load Libraries"
   ]
  },
  {
   "cell_type": "code",
   "execution_count": 1,
   "metadata": {},
   "outputs": [],
   "source": [
    "import numpy as np\n",
    "import pandas as pd\n",
    "import numpy as np\n",
    "from sklearn.model_selection import cross_validate, train_test_split\n",
    "from sklearn.model_selection import cross_val_score\n",
    "from sklearn.model_selection import KFold\n",
    "from sklearn.model_selection import GridSearchCV\n",
    "from sklearn.linear_model import LinearRegression\n",
    "from sklearn.preprocessing import LabelEncoder\n",
    "from sklearn.preprocessing import MinMaxScaler\n",
    "from sklearn.impute import SimpleImputer\n",
    "from sklearn.metrics import mean_squared_error, r2_score, mean_absolute_error\n",
    "import seaborn as sns\n",
    "import matplotlib.pyplot as plt\n",
    "from matplotlib import style\n",
    "import warnings\n",
    "warnings.filterwarnings(\"ignore\")\n",
    "style.use('ggplot')"
   ]
  },
  {
   "cell_type": "code",
   "execution_count": 143,
   "metadata": {},
   "outputs": [
    {
     "data": {
      "text/plain": [
       "'\"This project will dive into AirBnB apartment data for Chicago, LA, SF, DC, Boston, and NYC. The goal is to build a model for each city to make the most accurate predictions of price as possbile by geographic area.'"
      ]
     },
     "execution_count": 143,
     "metadata": {},
     "output_type": "execute_result"
    }
   ],
   "source": [
    "# source\n",
    "\n",
    "\"\"\"\"This project will dive into AirBnB apartment data for Chicago, LA, SF, DC, Boston, and NYC. The goal is to build a model for each\n",
    " city to make the most accurate predictions of price as possbile by geographic area.\"\"\" .replace(\"\\n\",\"\")"
   ]
  },
  {
   "cell_type": "markdown",
   "metadata": {},
   "source": [
    "# Functions Used"
   ]
  },
  {
   "cell_type": "code",
   "execution_count": 2,
   "metadata": {},
   "outputs": [],
   "source": [
    "def city_airbnb_type(dataframe,city, building_type):\n",
    "    \n",
    "    return dataframe[(dataframe['city'] == city) & (dataframe['property_type'] == building_type)]"
   ]
  },
  {
   "cell_type": "code",
   "execution_count": 3,
   "metadata": {},
   "outputs": [],
   "source": [
    "def airbnb_regression(dataframe_train, dataframe_test):\n",
    "   \n",
    "    \n",
    "    X = dataframe_train.drop(['log_price'], axis = 1)\n",
    "    y = dataframe_train.log_price\n",
    "    \n",
    "    X_train, X_test, y_train, y_test = train_test_split(X, y, test_size= .30)\n",
    "    \n",
    "    location_train = X_test.copy()\n",
    "    location_train = location_train[['id','latitude','longitude','city','neighbourhood']]\n",
    "    \n",
    "    \n",
    "    X_train.drop(['beds','bed_type','latitude','longitude','room_type','neighbourhood','property_type','zipcode','city','cancellation_policy'], axis = 1, inplace=True)\n",
    "    X_test.drop(['beds','bed_type','latitude','longitude','room_type','neighbourhood','property_type','zipcode','city','cancellation_policy'], axis = 1, inplace=True)\n",
    "    normal_features = X_test.copy()\n",
    "    \n",
    "    \n",
    "    scaler = MinMaxScaler()\n",
    "    numeric_train = ['accommodates', 'bathrooms', 'number_of_reviews','review_scores_rating', 'bedrooms', 'host_response_rate']\n",
    "    X_train[numeric_train] = scaler.fit_transform(X_train[numeric_train])\n",
    "\n",
    "    numeric_test = ['accommodates', 'bathrooms', 'number_of_reviews','review_scores_rating', 'bedrooms','host_response_rate']\n",
    "    X_test[numeric_test] = scaler.fit_transform(X_test[numeric_test])\n",
    "    \n",
    "    \n",
    "    # train\n",
    "    lr2 = LinearRegression()\n",
    "    lr2.fit(X_train, y_train)\n",
    "    \n",
    "    y_pred = lr2.predict(X_test)\n",
    "    \n",
    "    MSE = mean_squared_error(y_test, y_pred)\n",
    "    r2 = r2_score(y_test, y_pred)\n",
    "    \n",
    "\n",
    "    location_test = dataframe_test.copy()\n",
    "    location_test = location_test[['id','latitude','longitude','city','neighbourhood']]\n",
    "    \n",
    "    dataframe_test.drop(['beds','bed_type','latitude','longitude','room_type','neighbourhood','property_type','zipcode','city','cancellation_policy'], axis = 1, inplace=True)\n",
    "    normal_test_features = dataframe_test.copy()\n",
    "    \n",
    "    dataframe_test[numeric_test] = scaler.fit_transform(dataframe_test[numeric_test])\n",
    "    y_pred_test = lr2.predict(dataframe_test)\n",
    "\n",
    "    \n",
    "    return MSE, r2, y_test, y_pred, y_pred_test, location_train, location_test, normal_features, normal_test_features "
   ]
  },
  {
   "cell_type": "markdown",
   "metadata": {},
   "source": [
    "# Load Data"
   ]
  },
  {
   "cell_type": "code",
   "execution_count": 4,
   "metadata": {},
   "outputs": [],
   "source": [
    "airbnb_train = pd.read_csv(r'C:\\Users\\ranih\\OneDrive\\Desktop\\Python For Real\\Github\\Data\\Kaggle\\AirBnb\\airbnb_train.csv')\n",
    "airbnb_test = pd.read_csv(r'C:\\Users\\ranih\\OneDrive\\Desktop\\Python For Real\\Github\\Data\\Kaggle\\AirBnb\\airbnb_test.csv')"
   ]
  },
  {
   "cell_type": "code",
   "execution_count": 5,
   "metadata": {},
   "outputs": [
    {
     "name": "stdout",
     "output_type": "stream",
     "text": [
      "train rows: 74111\n",
      "train columns: 29\n"
     ]
    }
   ],
   "source": [
    "print(\"train rows:\", airbnb_train.shape[0])\n",
    "print(\"train columns:\", airbnb_train.shape[1])"
   ]
  },
  {
   "cell_type": "code",
   "execution_count": 6,
   "metadata": {},
   "outputs": [
    {
     "name": "stdout",
     "output_type": "stream",
     "text": [
      "test rows: 25458\n",
      "test columns: 28\n"
     ]
    }
   ],
   "source": [
    "print(\"test rows:\", airbnb_test.shape[0])\n",
    "print(\"test columns:\", airbnb_test.shape[1])"
   ]
  },
  {
   "cell_type": "markdown",
   "metadata": {},
   "source": [
    "# Data Exploration"
   ]
  },
  {
   "cell_type": "code",
   "execution_count": 7,
   "metadata": {},
   "outputs": [
    {
     "data": {
      "text/plain": [
       "id                            0\n",
       "log_price                     0\n",
       "property_type                 0\n",
       "room_type                     0\n",
       "amenities                     0\n",
       "accommodates                  0\n",
       "bathrooms                   200\n",
       "bed_type                      0\n",
       "cancellation_policy           0\n",
       "cleaning_fee                  0\n",
       "city                          0\n",
       "description                   0\n",
       "first_review              15864\n",
       "host_has_profile_pic        188\n",
       "host_identity_verified      188\n",
       "host_response_rate        18299\n",
       "host_since                  188\n",
       "instant_bookable              0\n",
       "last_review               15827\n",
       "latitude                      0\n",
       "longitude                     0\n",
       "name                          0\n",
       "neighbourhood              6872\n",
       "number_of_reviews             0\n",
       "review_scores_rating      16722\n",
       "thumbnail_url              8216\n",
       "zipcode                     966\n",
       "bedrooms                     91\n",
       "beds                        131\n",
       "dtype: int64"
      ]
     },
     "execution_count": 7,
     "metadata": {},
     "output_type": "execute_result"
    }
   ],
   "source": [
    "# check for null values\n",
    "airbnb_train.isnull().sum()"
   ]
  },
  {
   "cell_type": "code",
   "execution_count": 8,
   "metadata": {},
   "outputs": [
    {
     "data": {
      "text/plain": [
       "id                           0\n",
       "property_type                0\n",
       "room_type                    0\n",
       "amenities                    0\n",
       "accommodates                 0\n",
       "bathrooms                   79\n",
       "bed_type                     0\n",
       "cancellation_policy          0\n",
       "cleaning_fee                 0\n",
       "city                         0\n",
       "description                 14\n",
       "first_review              5436\n",
       "host_has_profile_pic        55\n",
       "host_identity_verified      55\n",
       "host_response_rate        6306\n",
       "host_since                  55\n",
       "instant_bookable             0\n",
       "last_review               5425\n",
       "latitude                     0\n",
       "longitude                    0\n",
       "name                         5\n",
       "neighbourhood             2465\n",
       "number_of_reviews            0\n",
       "review_scores_rating      5717\n",
       "thumbnail_url             2859\n",
       "zipcode                    321\n",
       "bedrooms                    28\n",
       "beds                        46\n",
       "dtype: int64"
      ]
     },
     "execution_count": 8,
     "metadata": {},
     "output_type": "execute_result"
    }
   ],
   "source": [
    "# check for null values\n",
    "airbnb_test.isnull().sum()"
   ]
  },
  {
   "cell_type": "code",
   "execution_count": 9,
   "metadata": {},
   "outputs": [
    {
     "data": {
      "text/plain": [
       "'both the train/test dataframes have missing values that need to be either filled/dropped.'"
      ]
     },
     "execution_count": 9,
     "metadata": {},
     "output_type": "execute_result"
    }
   ],
   "source": [
    "\"\"\"both the train/test dataframes have missing values that need to be either filled/dropped.\"\"\""
   ]
  },
  {
   "cell_type": "code",
   "execution_count": 10,
   "metadata": {},
   "outputs": [
    {
     "name": "stdout",
     "output_type": "stream",
     "text": [
      "<class 'pandas.core.frame.DataFrame'>\n",
      "RangeIndex: 74111 entries, 0 to 74110\n",
      "Data columns (total 29 columns):\n",
      " #   Column                  Non-Null Count  Dtype  \n",
      "---  ------                  --------------  -----  \n",
      " 0   id                      74111 non-null  int64  \n",
      " 1   log_price               74111 non-null  float64\n",
      " 2   property_type           74111 non-null  object \n",
      " 3   room_type               74111 non-null  object \n",
      " 4   amenities               74111 non-null  object \n",
      " 5   accommodates            74111 non-null  int64  \n",
      " 6   bathrooms               73911 non-null  float64\n",
      " 7   bed_type                74111 non-null  object \n",
      " 8   cancellation_policy     74111 non-null  object \n",
      " 9   cleaning_fee            74111 non-null  bool   \n",
      " 10  city                    74111 non-null  object \n",
      " 11  description             74111 non-null  object \n",
      " 12  first_review            58247 non-null  object \n",
      " 13  host_has_profile_pic    73923 non-null  object \n",
      " 14  host_identity_verified  73923 non-null  object \n",
      " 15  host_response_rate      55812 non-null  object \n",
      " 16  host_since              73923 non-null  object \n",
      " 17  instant_bookable        74111 non-null  object \n",
      " 18  last_review             58284 non-null  object \n",
      " 19  latitude                74111 non-null  float64\n",
      " 20  longitude               74111 non-null  float64\n",
      " 21  name                    74111 non-null  object \n",
      " 22  neighbourhood           67239 non-null  object \n",
      " 23  number_of_reviews       74111 non-null  int64  \n",
      " 24  review_scores_rating    57389 non-null  float64\n",
      " 25  thumbnail_url           65895 non-null  object \n",
      " 26  zipcode                 73145 non-null  object \n",
      " 27  bedrooms                74020 non-null  float64\n",
      " 28  beds                    73980 non-null  float64\n",
      "dtypes: bool(1), float64(7), int64(3), object(18)\n",
      "memory usage: 15.9+ MB\n"
     ]
    }
   ],
   "source": [
    "airbnb_train.info()"
   ]
  },
  {
   "cell_type": "code",
   "execution_count": 11,
   "metadata": {},
   "outputs": [
    {
     "name": "stdout",
     "output_type": "stream",
     "text": [
      "<class 'pandas.core.frame.DataFrame'>\n",
      "RangeIndex: 25458 entries, 0 to 25457\n",
      "Data columns (total 28 columns):\n",
      " #   Column                  Non-Null Count  Dtype  \n",
      "---  ------                  --------------  -----  \n",
      " 0   id                      25458 non-null  int64  \n",
      " 1   property_type           25458 non-null  object \n",
      " 2   room_type               25458 non-null  object \n",
      " 3   amenities               25458 non-null  object \n",
      " 4   accommodates            25458 non-null  int64  \n",
      " 5   bathrooms               25379 non-null  float64\n",
      " 6   bed_type                25458 non-null  object \n",
      " 7   cancellation_policy     25458 non-null  object \n",
      " 8   cleaning_fee            25458 non-null  bool   \n",
      " 9   city                    25458 non-null  object \n",
      " 10  description             25444 non-null  object \n",
      " 11  first_review            20022 non-null  object \n",
      " 12  host_has_profile_pic    25403 non-null  object \n",
      " 13  host_identity_verified  25403 non-null  object \n",
      " 14  host_response_rate      19152 non-null  object \n",
      " 15  host_since              25403 non-null  object \n",
      " 16  instant_bookable        25458 non-null  object \n",
      " 17  last_review             20033 non-null  object \n",
      " 18  latitude                25458 non-null  float64\n",
      " 19  longitude               25458 non-null  float64\n",
      " 20  name                    25453 non-null  object \n",
      " 21  neighbourhood           22993 non-null  object \n",
      " 22  number_of_reviews       25458 non-null  int64  \n",
      " 23  review_scores_rating    19741 non-null  float64\n",
      " 24  thumbnail_url           22599 non-null  object \n",
      " 25  zipcode                 25137 non-null  object \n",
      " 26  bedrooms                25430 non-null  float64\n",
      " 27  beds                    25412 non-null  float64\n",
      "dtypes: bool(1), float64(6), int64(3), object(18)\n",
      "memory usage: 5.3+ MB\n"
     ]
    }
   ],
   "source": [
    "airbnb_test.info()"
   ]
  },
  {
   "cell_type": "code",
   "execution_count": 12,
   "metadata": {},
   "outputs": [
    {
     "data": {
      "text/plain": [
       "'Both dataframes contain a mix of int64, float64, and object data types.There are a few data type conversion and cleaning the must be ran.'"
      ]
     },
     "execution_count": 12,
     "metadata": {},
     "output_type": "execute_result"
    }
   ],
   "source": [
    "\"\"\"Both dataframes contain a mix of int64, float64, and object data types.There are a few data type conversion and cleaning the must be ran.\"\"\".replace(\"\\n\",\" \")"
   ]
  },
  {
   "cell_type": "markdown",
   "metadata": {},
   "source": [
    "# Data Cleaning"
   ]
  },
  {
   "cell_type": "markdown",
   "metadata": {},
   "source": [
    "### Numeric Data Imputation"
   ]
  },
  {
   "cell_type": "markdown",
   "metadata": {},
   "source": [
    "### Train Data"
   ]
  },
  {
   "cell_type": "code",
   "execution_count": 13,
   "metadata": {},
   "outputs": [],
   "source": [
    "# creating a dataframe of only numeric values in order to impute missing values with the mean of the given column\n",
    "airbnb_train_int = airbnb_train.select_dtypes(exclude=['object'])\n",
    "airbnb_train_int.drop('cleaning_fee', axis = 1, inplace=True)"
   ]
  },
  {
   "cell_type": "code",
   "execution_count": 14,
   "metadata": {},
   "outputs": [
    {
     "data": {
      "text/html": [
       "<div>\n",
       "<style scoped>\n",
       "    .dataframe tbody tr th:only-of-type {\n",
       "        vertical-align: middle;\n",
       "    }\n",
       "\n",
       "    .dataframe tbody tr th {\n",
       "        vertical-align: top;\n",
       "    }\n",
       "\n",
       "    .dataframe thead th {\n",
       "        text-align: right;\n",
       "    }\n",
       "</style>\n",
       "<table border=\"1\" class=\"dataframe\">\n",
       "  <thead>\n",
       "    <tr style=\"text-align: right;\">\n",
       "      <th></th>\n",
       "      <th>id</th>\n",
       "      <th>log_price</th>\n",
       "      <th>accommodates</th>\n",
       "      <th>bathrooms</th>\n",
       "      <th>latitude</th>\n",
       "      <th>longitude</th>\n",
       "      <th>number_of_reviews</th>\n",
       "      <th>review_scores_rating</th>\n",
       "      <th>bedrooms</th>\n",
       "      <th>beds</th>\n",
       "    </tr>\n",
       "  </thead>\n",
       "  <tbody>\n",
       "    <tr>\n",
       "      <th>0</th>\n",
       "      <td>6901257.0</td>\n",
       "      <td>5.010635</td>\n",
       "      <td>3.0</td>\n",
       "      <td>1.0</td>\n",
       "      <td>40.696524</td>\n",
       "      <td>-73.991617</td>\n",
       "      <td>2.0</td>\n",
       "      <td>100.0</td>\n",
       "      <td>1.0</td>\n",
       "      <td>1.0</td>\n",
       "    </tr>\n",
       "    <tr>\n",
       "      <th>1</th>\n",
       "      <td>6304928.0</td>\n",
       "      <td>5.129899</td>\n",
       "      <td>7.0</td>\n",
       "      <td>1.0</td>\n",
       "      <td>40.766115</td>\n",
       "      <td>-73.989040</td>\n",
       "      <td>6.0</td>\n",
       "      <td>93.0</td>\n",
       "      <td>3.0</td>\n",
       "      <td>3.0</td>\n",
       "    </tr>\n",
       "    <tr>\n",
       "      <th>2</th>\n",
       "      <td>7919400.0</td>\n",
       "      <td>4.976734</td>\n",
       "      <td>5.0</td>\n",
       "      <td>1.0</td>\n",
       "      <td>40.808110</td>\n",
       "      <td>-73.943756</td>\n",
       "      <td>10.0</td>\n",
       "      <td>92.0</td>\n",
       "      <td>1.0</td>\n",
       "      <td>3.0</td>\n",
       "    </tr>\n",
       "    <tr>\n",
       "      <th>3</th>\n",
       "      <td>13418779.0</td>\n",
       "      <td>6.620073</td>\n",
       "      <td>4.0</td>\n",
       "      <td>1.0</td>\n",
       "      <td>37.772004</td>\n",
       "      <td>-122.431619</td>\n",
       "      <td>0.0</td>\n",
       "      <td>96.0</td>\n",
       "      <td>2.0</td>\n",
       "      <td>2.0</td>\n",
       "    </tr>\n",
       "    <tr>\n",
       "      <th>4</th>\n",
       "      <td>3808709.0</td>\n",
       "      <td>4.744932</td>\n",
       "      <td>2.0</td>\n",
       "      <td>1.0</td>\n",
       "      <td>38.925627</td>\n",
       "      <td>-77.034596</td>\n",
       "      <td>4.0</td>\n",
       "      <td>40.0</td>\n",
       "      <td>0.0</td>\n",
       "      <td>1.0</td>\n",
       "    </tr>\n",
       "  </tbody>\n",
       "</table>\n",
       "</div>"
      ],
      "text/plain": [
       "           id  log_price  accommodates  bathrooms   latitude   longitude  \\\n",
       "0   6901257.0   5.010635           3.0        1.0  40.696524  -73.991617   \n",
       "1   6304928.0   5.129899           7.0        1.0  40.766115  -73.989040   \n",
       "2   7919400.0   4.976734           5.0        1.0  40.808110  -73.943756   \n",
       "3  13418779.0   6.620073           4.0        1.0  37.772004 -122.431619   \n",
       "4   3808709.0   4.744932           2.0        1.0  38.925627  -77.034596   \n",
       "\n",
       "   number_of_reviews  review_scores_rating  bedrooms  beds  \n",
       "0                2.0                 100.0       1.0   1.0  \n",
       "1                6.0                  93.0       3.0   3.0  \n",
       "2               10.0                  92.0       1.0   3.0  \n",
       "3                0.0                  96.0       2.0   2.0  \n",
       "4                4.0                  40.0       0.0   1.0  "
      ]
     },
     "execution_count": 14,
     "metadata": {},
     "output_type": "execute_result"
    }
   ],
   "source": [
    "mean_imputer = SimpleImputer(missing_values=np.nan, strategy=\"median\")\n",
    "mean_imputer.fit(airbnb_train_int)\n",
    "airbnb_train_fill = mean_imputer.transform(airbnb_train_int)\n",
    "airbnb_train_fill = pd.DataFrame(airbnb_train_fill, columns=['id','log_price', 'accommodates', 'bathrooms', 'latitude', 'longitude',\n",
    "       'number_of_reviews', 'review_scores_rating', 'bedrooms', 'beds'])\n",
    "airbnb_train_fill.head()"
   ]
  },
  {
   "cell_type": "code",
   "execution_count": 15,
   "metadata": {},
   "outputs": [
    {
     "data": {
      "text/plain": [
       "id                      0\n",
       "log_price               0\n",
       "accommodates            0\n",
       "bathrooms               0\n",
       "latitude                0\n",
       "longitude               0\n",
       "number_of_reviews       0\n",
       "review_scores_rating    0\n",
       "bedrooms                0\n",
       "beds                    0\n",
       "dtype: int64"
      ]
     },
     "execution_count": 15,
     "metadata": {},
     "output_type": "execute_result"
    }
   ],
   "source": [
    "# check for missing values\n",
    "airbnb_train_fill.isnull().sum()"
   ]
  },
  {
   "cell_type": "markdown",
   "metadata": {},
   "source": [
    "### Test Data"
   ]
  },
  {
   "cell_type": "code",
   "execution_count": 16,
   "metadata": {},
   "outputs": [],
   "source": [
    "# creating a dataframe of only numeric values in order to impute missing values with the mean of the given column\n",
    "airbnb_test_int = airbnb_test.select_dtypes(exclude=['object'])\n",
    "airbnb_test_int.drop('cleaning_fee', axis = 1, inplace=True)"
   ]
  },
  {
   "cell_type": "code",
   "execution_count": 17,
   "metadata": {},
   "outputs": [
    {
     "data": {
      "text/html": [
       "<div>\n",
       "<style scoped>\n",
       "    .dataframe tbody tr th:only-of-type {\n",
       "        vertical-align: middle;\n",
       "    }\n",
       "\n",
       "    .dataframe tbody tr th {\n",
       "        vertical-align: top;\n",
       "    }\n",
       "\n",
       "    .dataframe thead th {\n",
       "        text-align: right;\n",
       "    }\n",
       "</style>\n",
       "<table border=\"1\" class=\"dataframe\">\n",
       "  <thead>\n",
       "    <tr style=\"text-align: right;\">\n",
       "      <th></th>\n",
       "      <th>id</th>\n",
       "      <th>accommodates</th>\n",
       "      <th>bathrooms</th>\n",
       "      <th>latitude</th>\n",
       "      <th>longitude</th>\n",
       "      <th>number_of_reviews</th>\n",
       "      <th>review_scores_rating</th>\n",
       "      <th>bedrooms</th>\n",
       "      <th>beds</th>\n",
       "    </tr>\n",
       "  </thead>\n",
       "  <tbody>\n",
       "    <tr>\n",
       "      <th>0</th>\n",
       "      <td>3895911.0</td>\n",
       "      <td>2.0</td>\n",
       "      <td>1.0</td>\n",
       "      <td>34.028372</td>\n",
       "      <td>-118.494449</td>\n",
       "      <td>6.0</td>\n",
       "      <td>97.0</td>\n",
       "      <td>1.0</td>\n",
       "      <td>1.0</td>\n",
       "    </tr>\n",
       "    <tr>\n",
       "      <th>1</th>\n",
       "      <td>9710289.0</td>\n",
       "      <td>3.0</td>\n",
       "      <td>1.0</td>\n",
       "      <td>40.720380</td>\n",
       "      <td>-73.942329</td>\n",
       "      <td>2.0</td>\n",
       "      <td>80.0</td>\n",
       "      <td>1.0</td>\n",
       "      <td>1.0</td>\n",
       "    </tr>\n",
       "    <tr>\n",
       "      <th>2</th>\n",
       "      <td>9051635.0</td>\n",
       "      <td>1.0</td>\n",
       "      <td>1.0</td>\n",
       "      <td>37.785434</td>\n",
       "      <td>-122.470284</td>\n",
       "      <td>2.0</td>\n",
       "      <td>100.0</td>\n",
       "      <td>1.0</td>\n",
       "      <td>1.0</td>\n",
       "    </tr>\n",
       "    <tr>\n",
       "      <th>3</th>\n",
       "      <td>708374.0</td>\n",
       "      <td>1.0</td>\n",
       "      <td>1.0</td>\n",
       "      <td>33.976026</td>\n",
       "      <td>-118.463471</td>\n",
       "      <td>7.0</td>\n",
       "      <td>94.0</td>\n",
       "      <td>0.0</td>\n",
       "      <td>1.0</td>\n",
       "    </tr>\n",
       "    <tr>\n",
       "      <th>4</th>\n",
       "      <td>626296.0</td>\n",
       "      <td>2.0</td>\n",
       "      <td>1.0</td>\n",
       "      <td>40.735573</td>\n",
       "      <td>-74.005996</td>\n",
       "      <td>0.0</td>\n",
       "      <td>96.0</td>\n",
       "      <td>1.0</td>\n",
       "      <td>1.0</td>\n",
       "    </tr>\n",
       "  </tbody>\n",
       "</table>\n",
       "</div>"
      ],
      "text/plain": [
       "          id  accommodates  bathrooms   latitude   longitude  \\\n",
       "0  3895911.0           2.0        1.0  34.028372 -118.494449   \n",
       "1  9710289.0           3.0        1.0  40.720380  -73.942329   \n",
       "2  9051635.0           1.0        1.0  37.785434 -122.470284   \n",
       "3   708374.0           1.0        1.0  33.976026 -118.463471   \n",
       "4   626296.0           2.0        1.0  40.735573  -74.005996   \n",
       "\n",
       "   number_of_reviews  review_scores_rating  bedrooms  beds  \n",
       "0                6.0                  97.0       1.0   1.0  \n",
       "1                2.0                  80.0       1.0   1.0  \n",
       "2                2.0                 100.0       1.0   1.0  \n",
       "3                7.0                  94.0       0.0   1.0  \n",
       "4                0.0                  96.0       1.0   1.0  "
      ]
     },
     "execution_count": 17,
     "metadata": {},
     "output_type": "execute_result"
    }
   ],
   "source": [
    "mean_imputer_2 = SimpleImputer(missing_values=np.nan, strategy=\"median\")\n",
    "mean_imputer_2.fit(airbnb_test_int)\n",
    "airbnb_test_fill = mean_imputer_2.transform(airbnb_test_int)\n",
    "airbnb_test_fill = pd.DataFrame(airbnb_test_fill, columns=['id','accommodates', 'bathrooms', 'latitude', 'longitude',\n",
    "       'number_of_reviews', 'review_scores_rating', 'bedrooms', 'beds'])\n",
    "airbnb_test_fill.head()"
   ]
  },
  {
   "cell_type": "code",
   "execution_count": 18,
   "metadata": {},
   "outputs": [
    {
     "data": {
      "text/plain": [
       "id                      0\n",
       "accommodates            0\n",
       "bathrooms               0\n",
       "latitude                0\n",
       "longitude               0\n",
       "number_of_reviews       0\n",
       "review_scores_rating    0\n",
       "bedrooms                0\n",
       "beds                    0\n",
       "dtype: int64"
      ]
     },
     "execution_count": 18,
     "metadata": {},
     "output_type": "execute_result"
    }
   ],
   "source": [
    "# check for missing values\n",
    "airbnb_test_fill.isnull().sum()"
   ]
  },
  {
   "cell_type": "code",
   "execution_count": 19,
   "metadata": {},
   "outputs": [
    {
     "data": {
      "text/plain": [
       "'Numeric features for both dataframes have been filled with the median of the respective columns'"
      ]
     },
     "execution_count": 19,
     "metadata": {},
     "output_type": "execute_result"
    }
   ],
   "source": [
    "\"\"\"Numeric features for both dataframes have been filled with the median of the respective columns\"\"\""
   ]
  },
  {
   "cell_type": "markdown",
   "metadata": {},
   "source": [
    "# Boolean Features"
   ]
  },
  {
   "cell_type": "markdown",
   "metadata": {},
   "source": [
    "### Train"
   ]
  },
  {
   "cell_type": "code",
   "execution_count": 20,
   "metadata": {},
   "outputs": [
    {
     "data": {
      "text/html": [
       "<div>\n",
       "<style scoped>\n",
       "    .dataframe tbody tr th:only-of-type {\n",
       "        vertical-align: middle;\n",
       "    }\n",
       "\n",
       "    .dataframe tbody tr th {\n",
       "        vertical-align: top;\n",
       "    }\n",
       "\n",
       "    .dataframe thead th {\n",
       "        text-align: right;\n",
       "    }\n",
       "</style>\n",
       "<table border=\"1\" class=\"dataframe\">\n",
       "  <thead>\n",
       "    <tr style=\"text-align: right;\">\n",
       "      <th></th>\n",
       "      <th>cleaning_fee</th>\n",
       "      <th>host_has_profile_pic</th>\n",
       "      <th>host_identity_verified</th>\n",
       "      <th>instant_bookable</th>\n",
       "    </tr>\n",
       "  </thead>\n",
       "  <tbody>\n",
       "    <tr>\n",
       "      <th>0</th>\n",
       "      <td>True</td>\n",
       "      <td>t</td>\n",
       "      <td>t</td>\n",
       "      <td>f</td>\n",
       "    </tr>\n",
       "    <tr>\n",
       "      <th>1</th>\n",
       "      <td>True</td>\n",
       "      <td>t</td>\n",
       "      <td>f</td>\n",
       "      <td>t</td>\n",
       "    </tr>\n",
       "    <tr>\n",
       "      <th>2</th>\n",
       "      <td>True</td>\n",
       "      <td>t</td>\n",
       "      <td>t</td>\n",
       "      <td>t</td>\n",
       "    </tr>\n",
       "    <tr>\n",
       "      <th>3</th>\n",
       "      <td>True</td>\n",
       "      <td>t</td>\n",
       "      <td>t</td>\n",
       "      <td>f</td>\n",
       "    </tr>\n",
       "    <tr>\n",
       "      <th>4</th>\n",
       "      <td>True</td>\n",
       "      <td>t</td>\n",
       "      <td>t</td>\n",
       "      <td>t</td>\n",
       "    </tr>\n",
       "  </tbody>\n",
       "</table>\n",
       "</div>"
      ],
      "text/plain": [
       "   cleaning_fee host_has_profile_pic host_identity_verified instant_bookable\n",
       "0          True                    t                      t                f\n",
       "1          True                    t                      f                t\n",
       "2          True                    t                      t                t\n",
       "3          True                    t                      t                f\n",
       "4          True                    t                      t                t"
      ]
     },
     "execution_count": 20,
     "metadata": {},
     "output_type": "execute_result"
    }
   ],
   "source": [
    "airbnb_train_bool = airbnb_train[['cleaning_fee', 'host_has_profile_pic', 'host_identity_verified','instant_bookable']]\n",
    "airbnb_train_bool.head()"
   ]
  },
  {
   "cell_type": "code",
   "execution_count": 21,
   "metadata": {},
   "outputs": [],
   "source": [
    "airbnb_train_bool.loc[airbnb_train_bool['host_has_profile_pic'] == 't', 'host_has_profile_pic'] = 1\n",
    "airbnb_train_bool.loc[airbnb_train_bool['host_has_profile_pic'] == 'f', 'host_has_profile_pic'] = 0\n",
    "airbnb_train_bool.loc[airbnb_train_bool['host_identity_verified'] == 't', 'host_identity_verified'] = 1\n",
    "airbnb_train_bool.loc[airbnb_train_bool['host_identity_verified'] == 'f', 'host_identity_verified'] = 0\n",
    "airbnb_train_bool.loc[airbnb_train_bool['instant_bookable'] == 't', 'instant_bookable'] = 1\n",
    "airbnb_train_bool.loc[airbnb_train_bool['instant_bookable'] == 'f', 'instant_bookable'] = 0"
   ]
  },
  {
   "cell_type": "code",
   "execution_count": 22,
   "metadata": {},
   "outputs": [
    {
     "data": {
      "text/html": [
       "<div>\n",
       "<style scoped>\n",
       "    .dataframe tbody tr th:only-of-type {\n",
       "        vertical-align: middle;\n",
       "    }\n",
       "\n",
       "    .dataframe tbody tr th {\n",
       "        vertical-align: top;\n",
       "    }\n",
       "\n",
       "    .dataframe thead th {\n",
       "        text-align: right;\n",
       "    }\n",
       "</style>\n",
       "<table border=\"1\" class=\"dataframe\">\n",
       "  <thead>\n",
       "    <tr style=\"text-align: right;\">\n",
       "      <th></th>\n",
       "      <th>cleaning_fee</th>\n",
       "      <th>host_has_profile_pic</th>\n",
       "      <th>host_identity_verified</th>\n",
       "      <th>instant_bookable</th>\n",
       "    </tr>\n",
       "  </thead>\n",
       "  <tbody>\n",
       "    <tr>\n",
       "      <th>0</th>\n",
       "      <td>True</td>\n",
       "      <td>1</td>\n",
       "      <td>1</td>\n",
       "      <td>0</td>\n",
       "    </tr>\n",
       "    <tr>\n",
       "      <th>1</th>\n",
       "      <td>True</td>\n",
       "      <td>1</td>\n",
       "      <td>0</td>\n",
       "      <td>1</td>\n",
       "    </tr>\n",
       "    <tr>\n",
       "      <th>2</th>\n",
       "      <td>True</td>\n",
       "      <td>1</td>\n",
       "      <td>1</td>\n",
       "      <td>1</td>\n",
       "    </tr>\n",
       "    <tr>\n",
       "      <th>3</th>\n",
       "      <td>True</td>\n",
       "      <td>1</td>\n",
       "      <td>1</td>\n",
       "      <td>0</td>\n",
       "    </tr>\n",
       "    <tr>\n",
       "      <th>4</th>\n",
       "      <td>True</td>\n",
       "      <td>1</td>\n",
       "      <td>1</td>\n",
       "      <td>1</td>\n",
       "    </tr>\n",
       "  </tbody>\n",
       "</table>\n",
       "</div>"
      ],
      "text/plain": [
       "   cleaning_fee host_has_profile_pic host_identity_verified instant_bookable\n",
       "0          True                    1                      1                0\n",
       "1          True                    1                      0                1\n",
       "2          True                    1                      1                1\n",
       "3          True                    1                      1                0\n",
       "4          True                    1                      1                1"
      ]
     },
     "execution_count": 22,
     "metadata": {},
     "output_type": "execute_result"
    }
   ],
   "source": [
    "airbnb_train_bool.head()"
   ]
  },
  {
   "cell_type": "code",
   "execution_count": 23,
   "metadata": {},
   "outputs": [
    {
     "name": "stdout",
     "output_type": "stream",
     "text": [
      "<class 'pandas.core.frame.DataFrame'>\n",
      "RangeIndex: 74111 entries, 0 to 74110\n",
      "Data columns (total 4 columns):\n",
      " #   Column                  Non-Null Count  Dtype \n",
      "---  ------                  --------------  ----- \n",
      " 0   cleaning_fee            74111 non-null  bool  \n",
      " 1   host_has_profile_pic    73923 non-null  object\n",
      " 2   host_identity_verified  73923 non-null  object\n",
      " 3   instant_bookable        74111 non-null  object\n",
      "dtypes: bool(1), object(3)\n",
      "memory usage: 1.8+ MB\n"
     ]
    }
   ],
   "source": [
    "airbnb_train_bool.info()"
   ]
  },
  {
   "cell_type": "code",
   "execution_count": 24,
   "metadata": {},
   "outputs": [],
   "source": [
    "# converting to boolean\n",
    "airbnb_train_bool['host_has_profile_pic'] = airbnb_train_bool.host_has_profile_pic == 1\n",
    "airbnb_train_bool['host_identity_verified'] = airbnb_train_bool.host_identity_verified == 1\n",
    "airbnb_train_bool['instant_bookable'] = airbnb_train_bool.host_identity_verified == 1"
   ]
  },
  {
   "cell_type": "code",
   "execution_count": 25,
   "metadata": {},
   "outputs": [
    {
     "name": "stdout",
     "output_type": "stream",
     "text": [
      "<class 'pandas.core.frame.DataFrame'>\n",
      "RangeIndex: 74111 entries, 0 to 74110\n",
      "Data columns (total 4 columns):\n",
      " #   Column                  Non-Null Count  Dtype\n",
      "---  ------                  --------------  -----\n",
      " 0   cleaning_fee            74111 non-null  bool \n",
      " 1   host_has_profile_pic    74111 non-null  bool \n",
      " 2   host_identity_verified  74111 non-null  bool \n",
      " 3   instant_bookable        74111 non-null  bool \n",
      "dtypes: bool(4)\n",
      "memory usage: 289.6 KB\n"
     ]
    }
   ],
   "source": [
    "airbnb_train_bool.info()"
   ]
  },
  {
   "cell_type": "code",
   "execution_count": 26,
   "metadata": {},
   "outputs": [
    {
     "data": {
      "text/html": [
       "<div>\n",
       "<style scoped>\n",
       "    .dataframe tbody tr th:only-of-type {\n",
       "        vertical-align: middle;\n",
       "    }\n",
       "\n",
       "    .dataframe tbody tr th {\n",
       "        vertical-align: top;\n",
       "    }\n",
       "\n",
       "    .dataframe thead th {\n",
       "        text-align: right;\n",
       "    }\n",
       "</style>\n",
       "<table border=\"1\" class=\"dataframe\">\n",
       "  <thead>\n",
       "    <tr style=\"text-align: right;\">\n",
       "      <th></th>\n",
       "      <th>cleaning_fee</th>\n",
       "      <th>host_has_profile_pic</th>\n",
       "      <th>host_identity_verified</th>\n",
       "      <th>instant_bookable</th>\n",
       "    </tr>\n",
       "  </thead>\n",
       "  <tbody>\n",
       "    <tr>\n",
       "      <th>0</th>\n",
       "      <td>True</td>\n",
       "      <td>True</td>\n",
       "      <td>True</td>\n",
       "      <td>True</td>\n",
       "    </tr>\n",
       "    <tr>\n",
       "      <th>1</th>\n",
       "      <td>True</td>\n",
       "      <td>True</td>\n",
       "      <td>False</td>\n",
       "      <td>False</td>\n",
       "    </tr>\n",
       "    <tr>\n",
       "      <th>2</th>\n",
       "      <td>True</td>\n",
       "      <td>True</td>\n",
       "      <td>True</td>\n",
       "      <td>True</td>\n",
       "    </tr>\n",
       "    <tr>\n",
       "      <th>3</th>\n",
       "      <td>True</td>\n",
       "      <td>True</td>\n",
       "      <td>True</td>\n",
       "      <td>True</td>\n",
       "    </tr>\n",
       "    <tr>\n",
       "      <th>4</th>\n",
       "      <td>True</td>\n",
       "      <td>True</td>\n",
       "      <td>True</td>\n",
       "      <td>True</td>\n",
       "    </tr>\n",
       "  </tbody>\n",
       "</table>\n",
       "</div>"
      ],
      "text/plain": [
       "   cleaning_fee  host_has_profile_pic  host_identity_verified  \\\n",
       "0          True                  True                    True   \n",
       "1          True                  True                   False   \n",
       "2          True                  True                    True   \n",
       "3          True                  True                    True   \n",
       "4          True                  True                    True   \n",
       "\n",
       "   instant_bookable  \n",
       "0              True  \n",
       "1             False  \n",
       "2              True  \n",
       "3              True  \n",
       "4              True  "
      ]
     },
     "execution_count": 26,
     "metadata": {},
     "output_type": "execute_result"
    }
   ],
   "source": [
    "airbnb_train_bool.head()"
   ]
  },
  {
   "cell_type": "code",
   "execution_count": 27,
   "metadata": {},
   "outputs": [],
   "source": [
    "airbnb_train_bool['cleaning_fee'] = airbnb_train_bool['cleaning_fee'].astype(int)\n",
    "airbnb_train_bool['host_has_profile_pic'] = airbnb_train_bool['host_has_profile_pic'].astype(int)\n",
    "airbnb_train_bool['host_identity_verified'] = airbnb_train_bool['host_identity_verified'].astype(int)\n",
    "airbnb_train_bool['instant_bookable'] = airbnb_train_bool['instant_bookable'].astype(int)"
   ]
  },
  {
   "cell_type": "code",
   "execution_count": 28,
   "metadata": {},
   "outputs": [
    {
     "data": {
      "text/html": [
       "<div>\n",
       "<style scoped>\n",
       "    .dataframe tbody tr th:only-of-type {\n",
       "        vertical-align: middle;\n",
       "    }\n",
       "\n",
       "    .dataframe tbody tr th {\n",
       "        vertical-align: top;\n",
       "    }\n",
       "\n",
       "    .dataframe thead th {\n",
       "        text-align: right;\n",
       "    }\n",
       "</style>\n",
       "<table border=\"1\" class=\"dataframe\">\n",
       "  <thead>\n",
       "    <tr style=\"text-align: right;\">\n",
       "      <th></th>\n",
       "      <th>cleaning_fee</th>\n",
       "      <th>host_has_profile_pic</th>\n",
       "      <th>host_identity_verified</th>\n",
       "      <th>instant_bookable</th>\n",
       "    </tr>\n",
       "  </thead>\n",
       "  <tbody>\n",
       "    <tr>\n",
       "      <th>0</th>\n",
       "      <td>1</td>\n",
       "      <td>1</td>\n",
       "      <td>1</td>\n",
       "      <td>1</td>\n",
       "    </tr>\n",
       "    <tr>\n",
       "      <th>1</th>\n",
       "      <td>1</td>\n",
       "      <td>1</td>\n",
       "      <td>0</td>\n",
       "      <td>0</td>\n",
       "    </tr>\n",
       "    <tr>\n",
       "      <th>2</th>\n",
       "      <td>1</td>\n",
       "      <td>1</td>\n",
       "      <td>1</td>\n",
       "      <td>1</td>\n",
       "    </tr>\n",
       "    <tr>\n",
       "      <th>3</th>\n",
       "      <td>1</td>\n",
       "      <td>1</td>\n",
       "      <td>1</td>\n",
       "      <td>1</td>\n",
       "    </tr>\n",
       "    <tr>\n",
       "      <th>4</th>\n",
       "      <td>1</td>\n",
       "      <td>1</td>\n",
       "      <td>1</td>\n",
       "      <td>1</td>\n",
       "    </tr>\n",
       "  </tbody>\n",
       "</table>\n",
       "</div>"
      ],
      "text/plain": [
       "   cleaning_fee  host_has_profile_pic  host_identity_verified  \\\n",
       "0             1                     1                       1   \n",
       "1             1                     1                       0   \n",
       "2             1                     1                       1   \n",
       "3             1                     1                       1   \n",
       "4             1                     1                       1   \n",
       "\n",
       "   instant_bookable  \n",
       "0                 1  \n",
       "1                 0  \n",
       "2                 1  \n",
       "3                 1  \n",
       "4                 1  "
      ]
     },
     "execution_count": 28,
     "metadata": {},
     "output_type": "execute_result"
    }
   ],
   "source": [
    "airbnb_train_bool.head()"
   ]
  },
  {
   "cell_type": "markdown",
   "metadata": {},
   "source": [
    "### Test"
   ]
  },
  {
   "cell_type": "code",
   "execution_count": 29,
   "metadata": {},
   "outputs": [
    {
     "data": {
      "text/html": [
       "<div>\n",
       "<style scoped>\n",
       "    .dataframe tbody tr th:only-of-type {\n",
       "        vertical-align: middle;\n",
       "    }\n",
       "\n",
       "    .dataframe tbody tr th {\n",
       "        vertical-align: top;\n",
       "    }\n",
       "\n",
       "    .dataframe thead th {\n",
       "        text-align: right;\n",
       "    }\n",
       "</style>\n",
       "<table border=\"1\" class=\"dataframe\">\n",
       "  <thead>\n",
       "    <tr style=\"text-align: right;\">\n",
       "      <th></th>\n",
       "      <th>cleaning_fee</th>\n",
       "      <th>host_has_profile_pic</th>\n",
       "      <th>host_identity_verified</th>\n",
       "      <th>instant_bookable</th>\n",
       "    </tr>\n",
       "  </thead>\n",
       "  <tbody>\n",
       "    <tr>\n",
       "      <th>0</th>\n",
       "      <td>True</td>\n",
       "      <td>t</td>\n",
       "      <td>f</td>\n",
       "      <td>f</td>\n",
       "    </tr>\n",
       "    <tr>\n",
       "      <th>1</th>\n",
       "      <td>True</td>\n",
       "      <td>t</td>\n",
       "      <td>t</td>\n",
       "      <td>f</td>\n",
       "    </tr>\n",
       "    <tr>\n",
       "      <th>2</th>\n",
       "      <td>True</td>\n",
       "      <td>t</td>\n",
       "      <td>t</td>\n",
       "      <td>f</td>\n",
       "    </tr>\n",
       "    <tr>\n",
       "      <th>3</th>\n",
       "      <td>True</td>\n",
       "      <td>t</td>\n",
       "      <td>t</td>\n",
       "      <td>f</td>\n",
       "    </tr>\n",
       "    <tr>\n",
       "      <th>4</th>\n",
       "      <td>True</td>\n",
       "      <td>t</td>\n",
       "      <td>t</td>\n",
       "      <td>f</td>\n",
       "    </tr>\n",
       "  </tbody>\n",
       "</table>\n",
       "</div>"
      ],
      "text/plain": [
       "   cleaning_fee host_has_profile_pic host_identity_verified instant_bookable\n",
       "0          True                    t                      f                f\n",
       "1          True                    t                      t                f\n",
       "2          True                    t                      t                f\n",
       "3          True                    t                      t                f\n",
       "4          True                    t                      t                f"
      ]
     },
     "execution_count": 29,
     "metadata": {},
     "output_type": "execute_result"
    }
   ],
   "source": [
    "airbnb_test_bool = airbnb_test[['cleaning_fee', 'host_has_profile_pic', 'host_identity_verified','instant_bookable']]\n",
    "airbnb_test_bool.head()"
   ]
  },
  {
   "cell_type": "code",
   "execution_count": 30,
   "metadata": {},
   "outputs": [],
   "source": [
    "airbnb_test_bool.loc[airbnb_test_bool['host_has_profile_pic'] == 't', 'host_has_profile_pic'] = 1\n",
    "airbnb_test_bool.loc[airbnb_test_bool['host_has_profile_pic'] == 'f', 'host_has_profile_pic'] = 0\n",
    "airbnb_test_bool.loc[airbnb_test_bool['host_identity_verified'] == 't', 'host_identity_verified'] = 1\n",
    "airbnb_test_bool.loc[airbnb_test_bool['host_identity_verified'] == 'f', 'host_identity_verified'] = 0\n",
    "airbnb_test_bool.loc[airbnb_test_bool['instant_bookable'] == 't', 'instant_bookable'] = 1\n",
    "airbnb_test_bool.loc[airbnb_test_bool['instant_bookable'] == 'f', 'instant_bookable'] = 0"
   ]
  },
  {
   "cell_type": "code",
   "execution_count": 31,
   "metadata": {},
   "outputs": [
    {
     "data": {
      "text/html": [
       "<div>\n",
       "<style scoped>\n",
       "    .dataframe tbody tr th:only-of-type {\n",
       "        vertical-align: middle;\n",
       "    }\n",
       "\n",
       "    .dataframe tbody tr th {\n",
       "        vertical-align: top;\n",
       "    }\n",
       "\n",
       "    .dataframe thead th {\n",
       "        text-align: right;\n",
       "    }\n",
       "</style>\n",
       "<table border=\"1\" class=\"dataframe\">\n",
       "  <thead>\n",
       "    <tr style=\"text-align: right;\">\n",
       "      <th></th>\n",
       "      <th>cleaning_fee</th>\n",
       "      <th>host_has_profile_pic</th>\n",
       "      <th>host_identity_verified</th>\n",
       "      <th>instant_bookable</th>\n",
       "    </tr>\n",
       "  </thead>\n",
       "  <tbody>\n",
       "    <tr>\n",
       "      <th>0</th>\n",
       "      <td>True</td>\n",
       "      <td>1</td>\n",
       "      <td>0</td>\n",
       "      <td>0</td>\n",
       "    </tr>\n",
       "    <tr>\n",
       "      <th>1</th>\n",
       "      <td>True</td>\n",
       "      <td>1</td>\n",
       "      <td>1</td>\n",
       "      <td>0</td>\n",
       "    </tr>\n",
       "    <tr>\n",
       "      <th>2</th>\n",
       "      <td>True</td>\n",
       "      <td>1</td>\n",
       "      <td>1</td>\n",
       "      <td>0</td>\n",
       "    </tr>\n",
       "    <tr>\n",
       "      <th>3</th>\n",
       "      <td>True</td>\n",
       "      <td>1</td>\n",
       "      <td>1</td>\n",
       "      <td>0</td>\n",
       "    </tr>\n",
       "    <tr>\n",
       "      <th>4</th>\n",
       "      <td>True</td>\n",
       "      <td>1</td>\n",
       "      <td>1</td>\n",
       "      <td>0</td>\n",
       "    </tr>\n",
       "  </tbody>\n",
       "</table>\n",
       "</div>"
      ],
      "text/plain": [
       "   cleaning_fee host_has_profile_pic host_identity_verified instant_bookable\n",
       "0          True                    1                      0                0\n",
       "1          True                    1                      1                0\n",
       "2          True                    1                      1                0\n",
       "3          True                    1                      1                0\n",
       "4          True                    1                      1                0"
      ]
     },
     "execution_count": 31,
     "metadata": {},
     "output_type": "execute_result"
    }
   ],
   "source": [
    "airbnb_test_bool.head()"
   ]
  },
  {
   "cell_type": "code",
   "execution_count": 32,
   "metadata": {},
   "outputs": [
    {
     "name": "stdout",
     "output_type": "stream",
     "text": [
      "<class 'pandas.core.frame.DataFrame'>\n",
      "RangeIndex: 25458 entries, 0 to 25457\n",
      "Data columns (total 4 columns):\n",
      " #   Column                  Non-Null Count  Dtype \n",
      "---  ------                  --------------  ----- \n",
      " 0   cleaning_fee            25458 non-null  bool  \n",
      " 1   host_has_profile_pic    25403 non-null  object\n",
      " 2   host_identity_verified  25403 non-null  object\n",
      " 3   instant_bookable        25458 non-null  object\n",
      "dtypes: bool(1), object(3)\n",
      "memory usage: 621.7+ KB\n"
     ]
    }
   ],
   "source": [
    "airbnb_test_bool.info()"
   ]
  },
  {
   "cell_type": "code",
   "execution_count": 33,
   "metadata": {},
   "outputs": [],
   "source": [
    "# converting to boolean\n",
    "airbnb_test_bool['host_has_profile_pic'] = airbnb_test_bool.host_has_profile_pic == 1\n",
    "airbnb_test_bool['host_identity_verified'] = airbnb_test_bool.host_identity_verified == 1\n",
    "airbnb_test_bool['instant_bookable'] = airbnb_test_bool.host_identity_verified == 1"
   ]
  },
  {
   "cell_type": "code",
   "execution_count": 34,
   "metadata": {},
   "outputs": [
    {
     "name": "stdout",
     "output_type": "stream",
     "text": [
      "<class 'pandas.core.frame.DataFrame'>\n",
      "RangeIndex: 25458 entries, 0 to 25457\n",
      "Data columns (total 4 columns):\n",
      " #   Column                  Non-Null Count  Dtype\n",
      "---  ------                  --------------  -----\n",
      " 0   cleaning_fee            25458 non-null  bool \n",
      " 1   host_has_profile_pic    25458 non-null  bool \n",
      " 2   host_identity_verified  25458 non-null  bool \n",
      " 3   instant_bookable        25458 non-null  bool \n",
      "dtypes: bool(4)\n",
      "memory usage: 99.6 KB\n"
     ]
    }
   ],
   "source": [
    "airbnb_test_bool.info()"
   ]
  },
  {
   "cell_type": "code",
   "execution_count": 35,
   "metadata": {},
   "outputs": [
    {
     "data": {
      "text/html": [
       "<div>\n",
       "<style scoped>\n",
       "    .dataframe tbody tr th:only-of-type {\n",
       "        vertical-align: middle;\n",
       "    }\n",
       "\n",
       "    .dataframe tbody tr th {\n",
       "        vertical-align: top;\n",
       "    }\n",
       "\n",
       "    .dataframe thead th {\n",
       "        text-align: right;\n",
       "    }\n",
       "</style>\n",
       "<table border=\"1\" class=\"dataframe\">\n",
       "  <thead>\n",
       "    <tr style=\"text-align: right;\">\n",
       "      <th></th>\n",
       "      <th>cleaning_fee</th>\n",
       "      <th>host_has_profile_pic</th>\n",
       "      <th>host_identity_verified</th>\n",
       "      <th>instant_bookable</th>\n",
       "    </tr>\n",
       "  </thead>\n",
       "  <tbody>\n",
       "    <tr>\n",
       "      <th>0</th>\n",
       "      <td>True</td>\n",
       "      <td>True</td>\n",
       "      <td>False</td>\n",
       "      <td>False</td>\n",
       "    </tr>\n",
       "    <tr>\n",
       "      <th>1</th>\n",
       "      <td>True</td>\n",
       "      <td>True</td>\n",
       "      <td>True</td>\n",
       "      <td>True</td>\n",
       "    </tr>\n",
       "    <tr>\n",
       "      <th>2</th>\n",
       "      <td>True</td>\n",
       "      <td>True</td>\n",
       "      <td>True</td>\n",
       "      <td>True</td>\n",
       "    </tr>\n",
       "    <tr>\n",
       "      <th>3</th>\n",
       "      <td>True</td>\n",
       "      <td>True</td>\n",
       "      <td>True</td>\n",
       "      <td>True</td>\n",
       "    </tr>\n",
       "    <tr>\n",
       "      <th>4</th>\n",
       "      <td>True</td>\n",
       "      <td>True</td>\n",
       "      <td>True</td>\n",
       "      <td>True</td>\n",
       "    </tr>\n",
       "  </tbody>\n",
       "</table>\n",
       "</div>"
      ],
      "text/plain": [
       "   cleaning_fee  host_has_profile_pic  host_identity_verified  \\\n",
       "0          True                  True                   False   \n",
       "1          True                  True                    True   \n",
       "2          True                  True                    True   \n",
       "3          True                  True                    True   \n",
       "4          True                  True                    True   \n",
       "\n",
       "   instant_bookable  \n",
       "0             False  \n",
       "1              True  \n",
       "2              True  \n",
       "3              True  \n",
       "4              True  "
      ]
     },
     "execution_count": 35,
     "metadata": {},
     "output_type": "execute_result"
    }
   ],
   "source": [
    "airbnb_test_bool.head()"
   ]
  },
  {
   "cell_type": "code",
   "execution_count": 36,
   "metadata": {},
   "outputs": [],
   "source": [
    "airbnb_test_bool['cleaning_fee'] = airbnb_test_bool['cleaning_fee'].astype(int)\n",
    "airbnb_test_bool['host_has_profile_pic'] = airbnb_test_bool['host_has_profile_pic'].astype(int)\n",
    "airbnb_test_bool['host_identity_verified'] = airbnb_test_bool['host_identity_verified'].astype(int)\n",
    "airbnb_test_bool['instant_bookable'] = airbnb_test_bool['instant_bookable'].astype(int)"
   ]
  },
  {
   "cell_type": "code",
   "execution_count": 37,
   "metadata": {},
   "outputs": [
    {
     "data": {
      "text/html": [
       "<div>\n",
       "<style scoped>\n",
       "    .dataframe tbody tr th:only-of-type {\n",
       "        vertical-align: middle;\n",
       "    }\n",
       "\n",
       "    .dataframe tbody tr th {\n",
       "        vertical-align: top;\n",
       "    }\n",
       "\n",
       "    .dataframe thead th {\n",
       "        text-align: right;\n",
       "    }\n",
       "</style>\n",
       "<table border=\"1\" class=\"dataframe\">\n",
       "  <thead>\n",
       "    <tr style=\"text-align: right;\">\n",
       "      <th></th>\n",
       "      <th>cleaning_fee</th>\n",
       "      <th>host_has_profile_pic</th>\n",
       "      <th>host_identity_verified</th>\n",
       "      <th>instant_bookable</th>\n",
       "    </tr>\n",
       "  </thead>\n",
       "  <tbody>\n",
       "    <tr>\n",
       "      <th>0</th>\n",
       "      <td>1</td>\n",
       "      <td>1</td>\n",
       "      <td>0</td>\n",
       "      <td>0</td>\n",
       "    </tr>\n",
       "    <tr>\n",
       "      <th>1</th>\n",
       "      <td>1</td>\n",
       "      <td>1</td>\n",
       "      <td>1</td>\n",
       "      <td>1</td>\n",
       "    </tr>\n",
       "    <tr>\n",
       "      <th>2</th>\n",
       "      <td>1</td>\n",
       "      <td>1</td>\n",
       "      <td>1</td>\n",
       "      <td>1</td>\n",
       "    </tr>\n",
       "    <tr>\n",
       "      <th>3</th>\n",
       "      <td>1</td>\n",
       "      <td>1</td>\n",
       "      <td>1</td>\n",
       "      <td>1</td>\n",
       "    </tr>\n",
       "    <tr>\n",
       "      <th>4</th>\n",
       "      <td>1</td>\n",
       "      <td>1</td>\n",
       "      <td>1</td>\n",
       "      <td>1</td>\n",
       "    </tr>\n",
       "  </tbody>\n",
       "</table>\n",
       "</div>"
      ],
      "text/plain": [
       "   cleaning_fee  host_has_profile_pic  host_identity_verified  \\\n",
       "0             1                     1                       0   \n",
       "1             1                     1                       1   \n",
       "2             1                     1                       1   \n",
       "3             1                     1                       1   \n",
       "4             1                     1                       1   \n",
       "\n",
       "   instant_bookable  \n",
       "0                 0  \n",
       "1                 1  \n",
       "2                 1  \n",
       "3                 1  \n",
       "4                 1  "
      ]
     },
     "execution_count": 37,
     "metadata": {},
     "output_type": "execute_result"
    }
   ],
   "source": [
    "airbnb_test_bool.head()"
   ]
  },
  {
   "cell_type": "markdown",
   "metadata": {},
   "source": [
    "# Object Feature cleaning"
   ]
  },
  {
   "cell_type": "markdown",
   "metadata": {},
   "source": [
    "### Test"
   ]
  },
  {
   "cell_type": "code",
   "execution_count": 38,
   "metadata": {},
   "outputs": [
    {
     "data": {
      "text/html": [
       "<div>\n",
       "<style scoped>\n",
       "    .dataframe tbody tr th:only-of-type {\n",
       "        vertical-align: middle;\n",
       "    }\n",
       "\n",
       "    .dataframe tbody tr th {\n",
       "        vertical-align: top;\n",
       "    }\n",
       "\n",
       "    .dataframe thead th {\n",
       "        text-align: right;\n",
       "    }\n",
       "</style>\n",
       "<table border=\"1\" class=\"dataframe\">\n",
       "  <thead>\n",
       "    <tr style=\"text-align: right;\">\n",
       "      <th></th>\n",
       "      <th>property_type</th>\n",
       "      <th>room_type</th>\n",
       "      <th>amenities</th>\n",
       "      <th>bed_type</th>\n",
       "      <th>cancellation_policy</th>\n",
       "      <th>city</th>\n",
       "      <th>description</th>\n",
       "      <th>first_review</th>\n",
       "      <th>host_has_profile_pic</th>\n",
       "      <th>host_identity_verified</th>\n",
       "      <th>host_response_rate</th>\n",
       "      <th>host_since</th>\n",
       "      <th>instant_bookable</th>\n",
       "      <th>last_review</th>\n",
       "      <th>name</th>\n",
       "      <th>neighbourhood</th>\n",
       "      <th>thumbnail_url</th>\n",
       "      <th>zipcode</th>\n",
       "    </tr>\n",
       "  </thead>\n",
       "  <tbody>\n",
       "    <tr>\n",
       "      <th>0</th>\n",
       "      <td>Apartment</td>\n",
       "      <td>Entire home/apt</td>\n",
       "      <td>{\"Wireless Internet\",\"Air conditioning\",Kitche...</td>\n",
       "      <td>Real Bed</td>\n",
       "      <td>strict</td>\n",
       "      <td>NYC</td>\n",
       "      <td>Beautiful, sunlit brownstone 1-bedroom in the ...</td>\n",
       "      <td>6/18/2016</td>\n",
       "      <td>t</td>\n",
       "      <td>t</td>\n",
       "      <td>NaN</td>\n",
       "      <td>3/26/2012</td>\n",
       "      <td>f</td>\n",
       "      <td>7/18/2016</td>\n",
       "      <td>Beautiful brownstone 1-bedroom</td>\n",
       "      <td>Brooklyn Heights</td>\n",
       "      <td>https://a0.muscache.com/im/pictures/6d7cbbf7-c...</td>\n",
       "      <td>11201</td>\n",
       "    </tr>\n",
       "    <tr>\n",
       "      <th>1</th>\n",
       "      <td>Apartment</td>\n",
       "      <td>Entire home/apt</td>\n",
       "      <td>{\"Wireless Internet\",\"Air conditioning\",Kitche...</td>\n",
       "      <td>Real Bed</td>\n",
       "      <td>strict</td>\n",
       "      <td>NYC</td>\n",
       "      <td>Enjoy travelling during your stay in Manhattan...</td>\n",
       "      <td>8/5/2017</td>\n",
       "      <td>t</td>\n",
       "      <td>f</td>\n",
       "      <td>100%</td>\n",
       "      <td>6/19/2017</td>\n",
       "      <td>t</td>\n",
       "      <td>9/23/2017</td>\n",
       "      <td>Superb 3BR Apt Located Near Times Square</td>\n",
       "      <td>Hell's Kitchen</td>\n",
       "      <td>https://a0.muscache.com/im/pictures/348a55fe-4...</td>\n",
       "      <td>10019</td>\n",
       "    </tr>\n",
       "    <tr>\n",
       "      <th>2</th>\n",
       "      <td>Apartment</td>\n",
       "      <td>Entire home/apt</td>\n",
       "      <td>{TV,\"Cable TV\",\"Wireless Internet\",\"Air condit...</td>\n",
       "      <td>Real Bed</td>\n",
       "      <td>moderate</td>\n",
       "      <td>NYC</td>\n",
       "      <td>The Oasis comes complete with a full backyard ...</td>\n",
       "      <td>4/30/2017</td>\n",
       "      <td>t</td>\n",
       "      <td>t</td>\n",
       "      <td>100%</td>\n",
       "      <td>10/25/2016</td>\n",
       "      <td>t</td>\n",
       "      <td>9/14/2017</td>\n",
       "      <td>The Garden Oasis</td>\n",
       "      <td>Harlem</td>\n",
       "      <td>https://a0.muscache.com/im/pictures/6fae5362-9...</td>\n",
       "      <td>10027</td>\n",
       "    </tr>\n",
       "  </tbody>\n",
       "</table>\n",
       "</div>"
      ],
      "text/plain": [
       "  property_type        room_type  \\\n",
       "0     Apartment  Entire home/apt   \n",
       "1     Apartment  Entire home/apt   \n",
       "2     Apartment  Entire home/apt   \n",
       "\n",
       "                                           amenities  bed_type  \\\n",
       "0  {\"Wireless Internet\",\"Air conditioning\",Kitche...  Real Bed   \n",
       "1  {\"Wireless Internet\",\"Air conditioning\",Kitche...  Real Bed   \n",
       "2  {TV,\"Cable TV\",\"Wireless Internet\",\"Air condit...  Real Bed   \n",
       "\n",
       "  cancellation_policy city                                        description  \\\n",
       "0              strict  NYC  Beautiful, sunlit brownstone 1-bedroom in the ...   \n",
       "1              strict  NYC  Enjoy travelling during your stay in Manhattan...   \n",
       "2            moderate  NYC  The Oasis comes complete with a full backyard ...   \n",
       "\n",
       "  first_review host_has_profile_pic host_identity_verified host_response_rate  \\\n",
       "0    6/18/2016                    t                      t                NaN   \n",
       "1     8/5/2017                    t                      f               100%   \n",
       "2    4/30/2017                    t                      t               100%   \n",
       "\n",
       "   host_since instant_bookable last_review  \\\n",
       "0   3/26/2012                f   7/18/2016   \n",
       "1   6/19/2017                t   9/23/2017   \n",
       "2  10/25/2016                t   9/14/2017   \n",
       "\n",
       "                                       name     neighbourhood  \\\n",
       "0            Beautiful brownstone 1-bedroom  Brooklyn Heights   \n",
       "1  Superb 3BR Apt Located Near Times Square    Hell's Kitchen   \n",
       "2                          The Garden Oasis            Harlem   \n",
       "\n",
       "                                       thumbnail_url zipcode  \n",
       "0  https://a0.muscache.com/im/pictures/6d7cbbf7-c...   11201  \n",
       "1  https://a0.muscache.com/im/pictures/348a55fe-4...   10019  \n",
       "2  https://a0.muscache.com/im/pictures/6fae5362-9...   10027  "
      ]
     },
     "execution_count": 38,
     "metadata": {},
     "output_type": "execute_result"
    }
   ],
   "source": [
    "airbnb_train_obj = airbnb_train.select_dtypes(include='object')\n",
    "airbnb_train_obj.head(3)"
   ]
  },
  {
   "cell_type": "code",
   "execution_count": 39,
   "metadata": {},
   "outputs": [],
   "source": [
    "# dropping columns from boolean df\n",
    "airbnb_train_obj.drop(['host_has_profile_pic','host_identity_verified','instant_bookable'], axis = 1, inplace=True)"
   ]
  },
  {
   "cell_type": "code",
   "execution_count": 40,
   "metadata": {
    "scrolled": true
   },
   "outputs": [
    {
     "data": {
      "text/html": [
       "<div>\n",
       "<style scoped>\n",
       "    .dataframe tbody tr th:only-of-type {\n",
       "        vertical-align: middle;\n",
       "    }\n",
       "\n",
       "    .dataframe tbody tr th {\n",
       "        vertical-align: top;\n",
       "    }\n",
       "\n",
       "    .dataframe thead th {\n",
       "        text-align: right;\n",
       "    }\n",
       "</style>\n",
       "<table border=\"1\" class=\"dataframe\">\n",
       "  <thead>\n",
       "    <tr style=\"text-align: right;\">\n",
       "      <th></th>\n",
       "      <th>property_type</th>\n",
       "      <th>room_type</th>\n",
       "      <th>amenities</th>\n",
       "      <th>bed_type</th>\n",
       "      <th>cancellation_policy</th>\n",
       "      <th>city</th>\n",
       "      <th>description</th>\n",
       "      <th>first_review</th>\n",
       "      <th>host_response_rate</th>\n",
       "      <th>host_since</th>\n",
       "      <th>last_review</th>\n",
       "      <th>name</th>\n",
       "      <th>neighbourhood</th>\n",
       "      <th>thumbnail_url</th>\n",
       "      <th>zipcode</th>\n",
       "    </tr>\n",
       "  </thead>\n",
       "  <tbody>\n",
       "    <tr>\n",
       "      <th>0</th>\n",
       "      <td>Apartment</td>\n",
       "      <td>Entire home/apt</td>\n",
       "      <td>{\"Wireless Internet\",\"Air conditioning\",Kitche...</td>\n",
       "      <td>Real Bed</td>\n",
       "      <td>strict</td>\n",
       "      <td>NYC</td>\n",
       "      <td>Beautiful, sunlit brownstone 1-bedroom in the ...</td>\n",
       "      <td>6/18/2016</td>\n",
       "      <td>NaN</td>\n",
       "      <td>3/26/2012</td>\n",
       "      <td>7/18/2016</td>\n",
       "      <td>Beautiful brownstone 1-bedroom</td>\n",
       "      <td>Brooklyn Heights</td>\n",
       "      <td>https://a0.muscache.com/im/pictures/6d7cbbf7-c...</td>\n",
       "      <td>11201</td>\n",
       "    </tr>\n",
       "    <tr>\n",
       "      <th>1</th>\n",
       "      <td>Apartment</td>\n",
       "      <td>Entire home/apt</td>\n",
       "      <td>{\"Wireless Internet\",\"Air conditioning\",Kitche...</td>\n",
       "      <td>Real Bed</td>\n",
       "      <td>strict</td>\n",
       "      <td>NYC</td>\n",
       "      <td>Enjoy travelling during your stay in Manhattan...</td>\n",
       "      <td>8/5/2017</td>\n",
       "      <td>100%</td>\n",
       "      <td>6/19/2017</td>\n",
       "      <td>9/23/2017</td>\n",
       "      <td>Superb 3BR Apt Located Near Times Square</td>\n",
       "      <td>Hell's Kitchen</td>\n",
       "      <td>https://a0.muscache.com/im/pictures/348a55fe-4...</td>\n",
       "      <td>10019</td>\n",
       "    </tr>\n",
       "    <tr>\n",
       "      <th>2</th>\n",
       "      <td>Apartment</td>\n",
       "      <td>Entire home/apt</td>\n",
       "      <td>{TV,\"Cable TV\",\"Wireless Internet\",\"Air condit...</td>\n",
       "      <td>Real Bed</td>\n",
       "      <td>moderate</td>\n",
       "      <td>NYC</td>\n",
       "      <td>The Oasis comes complete with a full backyard ...</td>\n",
       "      <td>4/30/2017</td>\n",
       "      <td>100%</td>\n",
       "      <td>10/25/2016</td>\n",
       "      <td>9/14/2017</td>\n",
       "      <td>The Garden Oasis</td>\n",
       "      <td>Harlem</td>\n",
       "      <td>https://a0.muscache.com/im/pictures/6fae5362-9...</td>\n",
       "      <td>10027</td>\n",
       "    </tr>\n",
       "  </tbody>\n",
       "</table>\n",
       "</div>"
      ],
      "text/plain": [
       "  property_type        room_type  \\\n",
       "0     Apartment  Entire home/apt   \n",
       "1     Apartment  Entire home/apt   \n",
       "2     Apartment  Entire home/apt   \n",
       "\n",
       "                                           amenities  bed_type  \\\n",
       "0  {\"Wireless Internet\",\"Air conditioning\",Kitche...  Real Bed   \n",
       "1  {\"Wireless Internet\",\"Air conditioning\",Kitche...  Real Bed   \n",
       "2  {TV,\"Cable TV\",\"Wireless Internet\",\"Air condit...  Real Bed   \n",
       "\n",
       "  cancellation_policy city                                        description  \\\n",
       "0              strict  NYC  Beautiful, sunlit brownstone 1-bedroom in the ...   \n",
       "1              strict  NYC  Enjoy travelling during your stay in Manhattan...   \n",
       "2            moderate  NYC  The Oasis comes complete with a full backyard ...   \n",
       "\n",
       "  first_review host_response_rate  host_since last_review  \\\n",
       "0    6/18/2016                NaN   3/26/2012   7/18/2016   \n",
       "1     8/5/2017               100%   6/19/2017   9/23/2017   \n",
       "2    4/30/2017               100%  10/25/2016   9/14/2017   \n",
       "\n",
       "                                       name     neighbourhood  \\\n",
       "0            Beautiful brownstone 1-bedroom  Brooklyn Heights   \n",
       "1  Superb 3BR Apt Located Near Times Square    Hell's Kitchen   \n",
       "2                          The Garden Oasis            Harlem   \n",
       "\n",
       "                                       thumbnail_url zipcode  \n",
       "0  https://a0.muscache.com/im/pictures/6d7cbbf7-c...   11201  \n",
       "1  https://a0.muscache.com/im/pictures/348a55fe-4...   10019  \n",
       "2  https://a0.muscache.com/im/pictures/6fae5362-9...   10027  "
      ]
     },
     "execution_count": 40,
     "metadata": {},
     "output_type": "execute_result"
    }
   ],
   "source": [
    "airbnb_train_obj.head(3)"
   ]
  },
  {
   "cell_type": "code",
   "execution_count": 41,
   "metadata": {},
   "outputs": [
    {
     "data": {
      "text/plain": [
       "property_type              0\n",
       "room_type                  0\n",
       "amenities                  0\n",
       "bed_type                   0\n",
       "cancellation_policy        0\n",
       "city                       0\n",
       "description                0\n",
       "first_review           15864\n",
       "host_response_rate     18299\n",
       "host_since               188\n",
       "last_review            15827\n",
       "name                       0\n",
       "neighbourhood           6872\n",
       "thumbnail_url           8216\n",
       "zipcode                  966\n",
       "dtype: int64"
      ]
     },
     "execution_count": 41,
     "metadata": {},
     "output_type": "execute_result"
    }
   ],
   "source": [
    "# checking for missing values\n",
    "airbnb_train_obj.isnull().sum()"
   ]
  },
  {
   "cell_type": "code",
   "execution_count": 42,
   "metadata": {},
   "outputs": [],
   "source": [
    "# dropping a few columns that are not viable at this time\n",
    "airbnb_train_obj.drop(['first_review','host_since', 'last_review','thumbnail_url','description','name','amenities'], axis = 1, inplace=True)"
   ]
  },
  {
   "cell_type": "code",
   "execution_count": 43,
   "metadata": {},
   "outputs": [],
   "source": [
    "# dropping missing neighbourhood values, though this could be filled in by long/late and or zipcode features\n",
    "airbnb_train_obj = airbnb_train_obj.dropna(subset=['neighbourhood'])\n",
    "airbnb_train_obj = airbnb_train_obj.dropna(subset=['zipcode'])"
   ]
  },
  {
   "cell_type": "code",
   "execution_count": 44,
   "metadata": {},
   "outputs": [
    {
     "name": "stdout",
     "output_type": "stream",
     "text": [
      "<class 'pandas.core.frame.DataFrame'>\n",
      "Int64Index: 66660 entries, 0 to 74110\n",
      "Data columns (total 8 columns):\n",
      " #   Column               Non-Null Count  Dtype \n",
      "---  ------               --------------  ----- \n",
      " 0   property_type        66660 non-null  object\n",
      " 1   room_type            66660 non-null  object\n",
      " 2   bed_type             66660 non-null  object\n",
      " 3   cancellation_policy  66660 non-null  object\n",
      " 4   city                 66660 non-null  object\n",
      " 5   host_response_rate   49527 non-null  object\n",
      " 6   neighbourhood        66660 non-null  object\n",
      " 7   zipcode              66660 non-null  object\n",
      "dtypes: object(8)\n",
      "memory usage: 4.6+ MB\n"
     ]
    }
   ],
   "source": [
    "# cleaning up the response rate column as this will be a proxy for customer service\n",
    "airbnb_train_obj['host_response_rate'] = airbnb_train_obj['host_response_rate'].str.replace(\"%\", '')\n",
    "airbnb_train_obj.info()"
   ]
  },
  {
   "cell_type": "code",
   "execution_count": 45,
   "metadata": {},
   "outputs": [
    {
     "name": "stdout",
     "output_type": "stream",
     "text": [
      "<class 'pandas.core.frame.DataFrame'>\n",
      "Int64Index: 66660 entries, 0 to 74110\n",
      "Data columns (total 8 columns):\n",
      " #   Column               Non-Null Count  Dtype \n",
      "---  ------               --------------  ----- \n",
      " 0   property_type        66660 non-null  object\n",
      " 1   room_type            66660 non-null  object\n",
      " 2   bed_type             66660 non-null  object\n",
      " 3   cancellation_policy  66660 non-null  object\n",
      " 4   city                 66660 non-null  object\n",
      " 5   host_response_rate   66660 non-null  object\n",
      " 6   neighbourhood        66660 non-null  object\n",
      " 7   zipcode              66660 non-null  object\n",
      "dtypes: object(8)\n",
      "memory usage: 4.6+ MB\n"
     ]
    }
   ],
   "source": [
    "# convert host_response_rate to an int then divide by 100 while filling NA with 0\n",
    "airbnb_train_obj['host_response_rate'] = airbnb_train_obj['host_response_rate'].astype(str).astype(float) \n",
    "airbnb_train_obj['host_response_rate'] = airbnb_train_obj['host_response_rate'] /100\n",
    "airbnb_train_obj['host_response_rate'] = airbnb_train_obj['host_response_rate'].fillna('0')\n",
    "airbnb_train_obj.info()"
   ]
  },
  {
   "cell_type": "code",
   "execution_count": 46,
   "metadata": {},
   "outputs": [
    {
     "data": {
      "text/html": [
       "<div>\n",
       "<style scoped>\n",
       "    .dataframe tbody tr th:only-of-type {\n",
       "        vertical-align: middle;\n",
       "    }\n",
       "\n",
       "    .dataframe tbody tr th {\n",
       "        vertical-align: top;\n",
       "    }\n",
       "\n",
       "    .dataframe thead th {\n",
       "        text-align: right;\n",
       "    }\n",
       "</style>\n",
       "<table border=\"1\" class=\"dataframe\">\n",
       "  <thead>\n",
       "    <tr style=\"text-align: right;\">\n",
       "      <th></th>\n",
       "      <th>property_type</th>\n",
       "      <th>room_type</th>\n",
       "      <th>bed_type</th>\n",
       "      <th>cancellation_policy</th>\n",
       "      <th>city</th>\n",
       "      <th>host_response_rate</th>\n",
       "      <th>neighbourhood</th>\n",
       "      <th>zipcode</th>\n",
       "    </tr>\n",
       "  </thead>\n",
       "  <tbody>\n",
       "    <tr>\n",
       "      <th>0</th>\n",
       "      <td>Apartment</td>\n",
       "      <td>Entire home/apt</td>\n",
       "      <td>Real Bed</td>\n",
       "      <td>strict</td>\n",
       "      <td>NYC</td>\n",
       "      <td>0</td>\n",
       "      <td>Brooklyn Heights</td>\n",
       "      <td>11201</td>\n",
       "    </tr>\n",
       "    <tr>\n",
       "      <th>1</th>\n",
       "      <td>Apartment</td>\n",
       "      <td>Entire home/apt</td>\n",
       "      <td>Real Bed</td>\n",
       "      <td>strict</td>\n",
       "      <td>NYC</td>\n",
       "      <td>1.0</td>\n",
       "      <td>Hell's Kitchen</td>\n",
       "      <td>10019</td>\n",
       "    </tr>\n",
       "    <tr>\n",
       "      <th>2</th>\n",
       "      <td>Apartment</td>\n",
       "      <td>Entire home/apt</td>\n",
       "      <td>Real Bed</td>\n",
       "      <td>moderate</td>\n",
       "      <td>NYC</td>\n",
       "      <td>1.0</td>\n",
       "      <td>Harlem</td>\n",
       "      <td>10027</td>\n",
       "    </tr>\n",
       "  </tbody>\n",
       "</table>\n",
       "</div>"
      ],
      "text/plain": [
       "  property_type        room_type  bed_type cancellation_policy city  \\\n",
       "0     Apartment  Entire home/apt  Real Bed              strict  NYC   \n",
       "1     Apartment  Entire home/apt  Real Bed              strict  NYC   \n",
       "2     Apartment  Entire home/apt  Real Bed            moderate  NYC   \n",
       "\n",
       "  host_response_rate     neighbourhood zipcode  \n",
       "0                  0  Brooklyn Heights   11201  \n",
       "1                1.0    Hell's Kitchen   10019  \n",
       "2                1.0            Harlem   10027  "
      ]
     },
     "execution_count": 46,
     "metadata": {},
     "output_type": "execute_result"
    }
   ],
   "source": [
    "airbnb_train_obj.head(3)"
   ]
  },
  {
   "cell_type": "code",
   "execution_count": 47,
   "metadata": {},
   "outputs": [
    {
     "data": {
      "text/plain": [
       "property_type          0\n",
       "room_type              0\n",
       "bed_type               0\n",
       "cancellation_policy    0\n",
       "city                   0\n",
       "host_response_rate     0\n",
       "neighbourhood          0\n",
       "zipcode                0\n",
       "dtype: int64"
      ]
     },
     "execution_count": 47,
     "metadata": {},
     "output_type": "execute_result"
    }
   ],
   "source": [
    "airbnb_train_obj.isnull().sum()"
   ]
  },
  {
   "cell_type": "markdown",
   "metadata": {},
   "source": [
    "### Test"
   ]
  },
  {
   "cell_type": "code",
   "execution_count": 48,
   "metadata": {},
   "outputs": [
    {
     "data": {
      "text/html": [
       "<div>\n",
       "<style scoped>\n",
       "    .dataframe tbody tr th:only-of-type {\n",
       "        vertical-align: middle;\n",
       "    }\n",
       "\n",
       "    .dataframe tbody tr th {\n",
       "        vertical-align: top;\n",
       "    }\n",
       "\n",
       "    .dataframe thead th {\n",
       "        text-align: right;\n",
       "    }\n",
       "</style>\n",
       "<table border=\"1\" class=\"dataframe\">\n",
       "  <thead>\n",
       "    <tr style=\"text-align: right;\">\n",
       "      <th></th>\n",
       "      <th>property_type</th>\n",
       "      <th>room_type</th>\n",
       "      <th>amenities</th>\n",
       "      <th>bed_type</th>\n",
       "      <th>cancellation_policy</th>\n",
       "      <th>city</th>\n",
       "      <th>description</th>\n",
       "      <th>first_review</th>\n",
       "      <th>host_has_profile_pic</th>\n",
       "      <th>host_identity_verified</th>\n",
       "      <th>host_response_rate</th>\n",
       "      <th>host_since</th>\n",
       "      <th>instant_bookable</th>\n",
       "      <th>last_review</th>\n",
       "      <th>name</th>\n",
       "      <th>neighbourhood</th>\n",
       "      <th>thumbnail_url</th>\n",
       "      <th>zipcode</th>\n",
       "    </tr>\n",
       "  </thead>\n",
       "  <tbody>\n",
       "    <tr>\n",
       "      <th>0</th>\n",
       "      <td>Apartment</td>\n",
       "      <td>Private room</td>\n",
       "      <td>{TV,\"Cable TV\",Kitchen,\"Free parking on premis...</td>\n",
       "      <td>Real Bed</td>\n",
       "      <td>flexible</td>\n",
       "      <td>LA</td>\n",
       "      <td>Close to SM beaches, 3rd Street Promenade, SM ...</td>\n",
       "      <td>2016-10-23</td>\n",
       "      <td>t</td>\n",
       "      <td>f</td>\n",
       "      <td>100%</td>\n",
       "      <td>2016-08-13</td>\n",
       "      <td>f</td>\n",
       "      <td>2017-02-26</td>\n",
       "      <td>Santa Monica Private Bedroom/Bathroom Suite</td>\n",
       "      <td>Santa Monica</td>\n",
       "      <td>https://a0.muscache.com/im/pictures/92355eae-b...</td>\n",
       "      <td>90403</td>\n",
       "    </tr>\n",
       "    <tr>\n",
       "      <th>1</th>\n",
       "      <td>Apartment</td>\n",
       "      <td>Entire home/apt</td>\n",
       "      <td>{TV,\"Cable TV\",\"Wireless Internet\",\"Air condit...</td>\n",
       "      <td>Real Bed</td>\n",
       "      <td>moderate</td>\n",
       "      <td>NYC</td>\n",
       "      <td>This apartment will give you a true (luxury) B...</td>\n",
       "      <td>2016-09-12</td>\n",
       "      <td>t</td>\n",
       "      <td>t</td>\n",
       "      <td>100%</td>\n",
       "      <td>2013-12-04</td>\n",
       "      <td>f</td>\n",
       "      <td>2016-10-16</td>\n",
       "      <td>Bright, charming luxury 1 BR with amazing rooftop</td>\n",
       "      <td>Williamsburg</td>\n",
       "      <td>https://a0.muscache.com/im/pictures/da03e413-d...</td>\n",
       "      <td>11222</td>\n",
       "    </tr>\n",
       "    <tr>\n",
       "      <th>2</th>\n",
       "      <td>Apartment</td>\n",
       "      <td>Private room</td>\n",
       "      <td>{\"Wireless Internet\",Kitchen,Heating,\"Family/k...</td>\n",
       "      <td>Real Bed</td>\n",
       "      <td>moderate</td>\n",
       "      <td>SF</td>\n",
       "      <td>Spacious 1 bedroom apartment apartment with se...</td>\n",
       "      <td>2016-11-13</td>\n",
       "      <td>t</td>\n",
       "      <td>t</td>\n",
       "      <td>100%</td>\n",
       "      <td>2011-08-02</td>\n",
       "      <td>f</td>\n",
       "      <td>2016-11-17</td>\n",
       "      <td>Private room in charming apartment</td>\n",
       "      <td>Richmond District</td>\n",
       "      <td>https://a0.muscache.com/im/pictures/0ba7d8aa-9...</td>\n",
       "      <td>94118</td>\n",
       "    </tr>\n",
       "  </tbody>\n",
       "</table>\n",
       "</div>"
      ],
      "text/plain": [
       "  property_type        room_type  \\\n",
       "0     Apartment     Private room   \n",
       "1     Apartment  Entire home/apt   \n",
       "2     Apartment     Private room   \n",
       "\n",
       "                                           amenities  bed_type  \\\n",
       "0  {TV,\"Cable TV\",Kitchen,\"Free parking on premis...  Real Bed   \n",
       "1  {TV,\"Cable TV\",\"Wireless Internet\",\"Air condit...  Real Bed   \n",
       "2  {\"Wireless Internet\",Kitchen,Heating,\"Family/k...  Real Bed   \n",
       "\n",
       "  cancellation_policy city                                        description  \\\n",
       "0            flexible   LA  Close to SM beaches, 3rd Street Promenade, SM ...   \n",
       "1            moderate  NYC  This apartment will give you a true (luxury) B...   \n",
       "2            moderate   SF  Spacious 1 bedroom apartment apartment with se...   \n",
       "\n",
       "  first_review host_has_profile_pic host_identity_verified host_response_rate  \\\n",
       "0   2016-10-23                    t                      f               100%   \n",
       "1   2016-09-12                    t                      t               100%   \n",
       "2   2016-11-13                    t                      t               100%   \n",
       "\n",
       "   host_since instant_bookable last_review  \\\n",
       "0  2016-08-13                f  2017-02-26   \n",
       "1  2013-12-04                f  2016-10-16   \n",
       "2  2011-08-02                f  2016-11-17   \n",
       "\n",
       "                                                name      neighbourhood  \\\n",
       "0        Santa Monica Private Bedroom/Bathroom Suite       Santa Monica   \n",
       "1  Bright, charming luxury 1 BR with amazing rooftop       Williamsburg   \n",
       "2                 Private room in charming apartment  Richmond District   \n",
       "\n",
       "                                       thumbnail_url zipcode  \n",
       "0  https://a0.muscache.com/im/pictures/92355eae-b...   90403  \n",
       "1  https://a0.muscache.com/im/pictures/da03e413-d...   11222  \n",
       "2  https://a0.muscache.com/im/pictures/0ba7d8aa-9...   94118  "
      ]
     },
     "execution_count": 48,
     "metadata": {},
     "output_type": "execute_result"
    }
   ],
   "source": [
    "airbnb_test_obj = airbnb_test.select_dtypes(include='object')\n",
    "airbnb_test_obj.head(3)"
   ]
  },
  {
   "cell_type": "code",
   "execution_count": 49,
   "metadata": {},
   "outputs": [],
   "source": [
    "# dropping columns from boolean df\n",
    "airbnb_test_obj.drop(['host_has_profile_pic','host_identity_verified','instant_bookable','description','name','amenities'], axis = 1, inplace=True)"
   ]
  },
  {
   "cell_type": "code",
   "execution_count": 50,
   "metadata": {},
   "outputs": [
    {
     "data": {
      "text/html": [
       "<div>\n",
       "<style scoped>\n",
       "    .dataframe tbody tr th:only-of-type {\n",
       "        vertical-align: middle;\n",
       "    }\n",
       "\n",
       "    .dataframe tbody tr th {\n",
       "        vertical-align: top;\n",
       "    }\n",
       "\n",
       "    .dataframe thead th {\n",
       "        text-align: right;\n",
       "    }\n",
       "</style>\n",
       "<table border=\"1\" class=\"dataframe\">\n",
       "  <thead>\n",
       "    <tr style=\"text-align: right;\">\n",
       "      <th></th>\n",
       "      <th>property_type</th>\n",
       "      <th>room_type</th>\n",
       "      <th>bed_type</th>\n",
       "      <th>cancellation_policy</th>\n",
       "      <th>city</th>\n",
       "      <th>first_review</th>\n",
       "      <th>host_response_rate</th>\n",
       "      <th>host_since</th>\n",
       "      <th>last_review</th>\n",
       "      <th>neighbourhood</th>\n",
       "      <th>thumbnail_url</th>\n",
       "      <th>zipcode</th>\n",
       "    </tr>\n",
       "  </thead>\n",
       "  <tbody>\n",
       "    <tr>\n",
       "      <th>0</th>\n",
       "      <td>Apartment</td>\n",
       "      <td>Private room</td>\n",
       "      <td>Real Bed</td>\n",
       "      <td>flexible</td>\n",
       "      <td>LA</td>\n",
       "      <td>2016-10-23</td>\n",
       "      <td>100%</td>\n",
       "      <td>2016-08-13</td>\n",
       "      <td>2017-02-26</td>\n",
       "      <td>Santa Monica</td>\n",
       "      <td>https://a0.muscache.com/im/pictures/92355eae-b...</td>\n",
       "      <td>90403</td>\n",
       "    </tr>\n",
       "    <tr>\n",
       "      <th>1</th>\n",
       "      <td>Apartment</td>\n",
       "      <td>Entire home/apt</td>\n",
       "      <td>Real Bed</td>\n",
       "      <td>moderate</td>\n",
       "      <td>NYC</td>\n",
       "      <td>2016-09-12</td>\n",
       "      <td>100%</td>\n",
       "      <td>2013-12-04</td>\n",
       "      <td>2016-10-16</td>\n",
       "      <td>Williamsburg</td>\n",
       "      <td>https://a0.muscache.com/im/pictures/da03e413-d...</td>\n",
       "      <td>11222</td>\n",
       "    </tr>\n",
       "    <tr>\n",
       "      <th>2</th>\n",
       "      <td>Apartment</td>\n",
       "      <td>Private room</td>\n",
       "      <td>Real Bed</td>\n",
       "      <td>moderate</td>\n",
       "      <td>SF</td>\n",
       "      <td>2016-11-13</td>\n",
       "      <td>100%</td>\n",
       "      <td>2011-08-02</td>\n",
       "      <td>2016-11-17</td>\n",
       "      <td>Richmond District</td>\n",
       "      <td>https://a0.muscache.com/im/pictures/0ba7d8aa-9...</td>\n",
       "      <td>94118</td>\n",
       "    </tr>\n",
       "  </tbody>\n",
       "</table>\n",
       "</div>"
      ],
      "text/plain": [
       "  property_type        room_type  bed_type cancellation_policy city  \\\n",
       "0     Apartment     Private room  Real Bed            flexible   LA   \n",
       "1     Apartment  Entire home/apt  Real Bed            moderate  NYC   \n",
       "2     Apartment     Private room  Real Bed            moderate   SF   \n",
       "\n",
       "  first_review host_response_rate  host_since last_review      neighbourhood  \\\n",
       "0   2016-10-23               100%  2016-08-13  2017-02-26       Santa Monica   \n",
       "1   2016-09-12               100%  2013-12-04  2016-10-16       Williamsburg   \n",
       "2   2016-11-13               100%  2011-08-02  2016-11-17  Richmond District   \n",
       "\n",
       "                                       thumbnail_url zipcode  \n",
       "0  https://a0.muscache.com/im/pictures/92355eae-b...   90403  \n",
       "1  https://a0.muscache.com/im/pictures/da03e413-d...   11222  \n",
       "2  https://a0.muscache.com/im/pictures/0ba7d8aa-9...   94118  "
      ]
     },
     "execution_count": 50,
     "metadata": {},
     "output_type": "execute_result"
    }
   ],
   "source": [
    "airbnb_test_obj.head(3)"
   ]
  },
  {
   "cell_type": "code",
   "execution_count": 51,
   "metadata": {},
   "outputs": [
    {
     "data": {
      "text/plain": [
       "property_type             0\n",
       "room_type                 0\n",
       "bed_type                  0\n",
       "cancellation_policy       0\n",
       "city                      0\n",
       "first_review           5436\n",
       "host_response_rate     6306\n",
       "host_since               55\n",
       "last_review            5425\n",
       "neighbourhood          2465\n",
       "thumbnail_url          2859\n",
       "zipcode                 321\n",
       "dtype: int64"
      ]
     },
     "execution_count": 51,
     "metadata": {},
     "output_type": "execute_result"
    }
   ],
   "source": [
    "# checking for missing values\n",
    "airbnb_test_obj.isnull().sum()"
   ]
  },
  {
   "cell_type": "code",
   "execution_count": 52,
   "metadata": {},
   "outputs": [],
   "source": [
    "# dropping a few columns that are not viable at this time\n",
    "airbnb_test_obj.drop(['first_review','host_since', 'last_review','thumbnail_url'], axis = 1, inplace=True)"
   ]
  },
  {
   "cell_type": "code",
   "execution_count": 53,
   "metadata": {},
   "outputs": [],
   "source": [
    "# dropping missing neighbourhood values, though this could be filled in by long/late and or zipcode features\n",
    "airbnb_test_obj = airbnb_test_obj.dropna(subset=['neighbourhood'])\n",
    "airbnb_test_obj = airbnb_test_obj.dropna(subset=['zipcode'])"
   ]
  },
  {
   "cell_type": "code",
   "execution_count": 54,
   "metadata": {},
   "outputs": [
    {
     "name": "stdout",
     "output_type": "stream",
     "text": [
      "<class 'pandas.core.frame.DataFrame'>\n",
      "Int64Index: 22797 entries, 0 to 25457\n",
      "Data columns (total 8 columns):\n",
      " #   Column               Non-Null Count  Dtype \n",
      "---  ------               --------------  ----- \n",
      " 0   property_type        22797 non-null  object\n",
      " 1   room_type            22797 non-null  object\n",
      " 2   bed_type             22797 non-null  object\n",
      " 3   cancellation_policy  22797 non-null  object\n",
      " 4   city                 22797 non-null  object\n",
      " 5   host_response_rate   16911 non-null  object\n",
      " 6   neighbourhood        22797 non-null  object\n",
      " 7   zipcode              22797 non-null  object\n",
      "dtypes: object(8)\n",
      "memory usage: 1.6+ MB\n"
     ]
    }
   ],
   "source": [
    "# cleaning up the response rate column as this will be a proxy for customer service\n",
    "airbnb_test_obj['host_response_rate'] = airbnb_test_obj['host_response_rate'].str.replace(\"%\", '')\n",
    "airbnb_test_obj.info()"
   ]
  },
  {
   "cell_type": "code",
   "execution_count": 55,
   "metadata": {},
   "outputs": [
    {
     "name": "stdout",
     "output_type": "stream",
     "text": [
      "<class 'pandas.core.frame.DataFrame'>\n",
      "Int64Index: 22797 entries, 0 to 25457\n",
      "Data columns (total 8 columns):\n",
      " #   Column               Non-Null Count  Dtype \n",
      "---  ------               --------------  ----- \n",
      " 0   property_type        22797 non-null  object\n",
      " 1   room_type            22797 non-null  object\n",
      " 2   bed_type             22797 non-null  object\n",
      " 3   cancellation_policy  22797 non-null  object\n",
      " 4   city                 22797 non-null  object\n",
      " 5   host_response_rate   22797 non-null  object\n",
      " 6   neighbourhood        22797 non-null  object\n",
      " 7   zipcode              22797 non-null  object\n",
      "dtypes: object(8)\n",
      "memory usage: 1.6+ MB\n"
     ]
    }
   ],
   "source": [
    "# convert host_response_rate to an int then divide by 100 while filling NA with 0\n",
    "airbnb_test_obj['host_response_rate'] = airbnb_test_obj['host_response_rate'].astype(str).astype(float) \n",
    "airbnb_test_obj['host_response_rate'] = airbnb_test_obj['host_response_rate'] /100\n",
    "airbnb_test_obj['host_response_rate'] = airbnb_test_obj['host_response_rate'].fillna('0')\n",
    "airbnb_test_obj.info()"
   ]
  },
  {
   "cell_type": "code",
   "execution_count": 56,
   "metadata": {},
   "outputs": [
    {
     "data": {
      "text/html": [
       "<div>\n",
       "<style scoped>\n",
       "    .dataframe tbody tr th:only-of-type {\n",
       "        vertical-align: middle;\n",
       "    }\n",
       "\n",
       "    .dataframe tbody tr th {\n",
       "        vertical-align: top;\n",
       "    }\n",
       "\n",
       "    .dataframe thead th {\n",
       "        text-align: right;\n",
       "    }\n",
       "</style>\n",
       "<table border=\"1\" class=\"dataframe\">\n",
       "  <thead>\n",
       "    <tr style=\"text-align: right;\">\n",
       "      <th></th>\n",
       "      <th>property_type</th>\n",
       "      <th>room_type</th>\n",
       "      <th>bed_type</th>\n",
       "      <th>cancellation_policy</th>\n",
       "      <th>city</th>\n",
       "      <th>host_response_rate</th>\n",
       "      <th>neighbourhood</th>\n",
       "      <th>zipcode</th>\n",
       "    </tr>\n",
       "  </thead>\n",
       "  <tbody>\n",
       "    <tr>\n",
       "      <th>0</th>\n",
       "      <td>Apartment</td>\n",
       "      <td>Private room</td>\n",
       "      <td>Real Bed</td>\n",
       "      <td>flexible</td>\n",
       "      <td>LA</td>\n",
       "      <td>1.0</td>\n",
       "      <td>Santa Monica</td>\n",
       "      <td>90403</td>\n",
       "    </tr>\n",
       "    <tr>\n",
       "      <th>1</th>\n",
       "      <td>Apartment</td>\n",
       "      <td>Entire home/apt</td>\n",
       "      <td>Real Bed</td>\n",
       "      <td>moderate</td>\n",
       "      <td>NYC</td>\n",
       "      <td>1.0</td>\n",
       "      <td>Williamsburg</td>\n",
       "      <td>11222</td>\n",
       "    </tr>\n",
       "    <tr>\n",
       "      <th>2</th>\n",
       "      <td>Apartment</td>\n",
       "      <td>Private room</td>\n",
       "      <td>Real Bed</td>\n",
       "      <td>moderate</td>\n",
       "      <td>SF</td>\n",
       "      <td>1.0</td>\n",
       "      <td>Richmond District</td>\n",
       "      <td>94118</td>\n",
       "    </tr>\n",
       "  </tbody>\n",
       "</table>\n",
       "</div>"
      ],
      "text/plain": [
       "  property_type        room_type  bed_type cancellation_policy city  \\\n",
       "0     Apartment     Private room  Real Bed            flexible   LA   \n",
       "1     Apartment  Entire home/apt  Real Bed            moderate  NYC   \n",
       "2     Apartment     Private room  Real Bed            moderate   SF   \n",
       "\n",
       "  host_response_rate      neighbourhood zipcode  \n",
       "0                1.0       Santa Monica   90403  \n",
       "1                1.0       Williamsburg   11222  \n",
       "2                1.0  Richmond District   94118  "
      ]
     },
     "execution_count": 56,
     "metadata": {},
     "output_type": "execute_result"
    }
   ],
   "source": [
    "airbnb_test_obj.head(3)"
   ]
  },
  {
   "cell_type": "code",
   "execution_count": 57,
   "metadata": {},
   "outputs": [
    {
     "data": {
      "text/plain": [
       "property_type          0\n",
       "room_type              0\n",
       "bed_type               0\n",
       "cancellation_policy    0\n",
       "city                   0\n",
       "host_response_rate     0\n",
       "neighbourhood          0\n",
       "zipcode                0\n",
       "dtype: int64"
      ]
     },
     "execution_count": 57,
     "metadata": {},
     "output_type": "execute_result"
    }
   ],
   "source": [
    "airbnb_test_obj.isnull().sum()"
   ]
  },
  {
   "cell_type": "markdown",
   "metadata": {},
   "source": [
    "# Concatinating Dataframes"
   ]
  },
  {
   "cell_type": "markdown",
   "metadata": {},
   "source": [
    "### Train"
   ]
  },
  {
   "cell_type": "code",
   "execution_count": 58,
   "metadata": {},
   "outputs": [
    {
     "data": {
      "text/html": [
       "<div>\n",
       "<style scoped>\n",
       "    .dataframe tbody tr th:only-of-type {\n",
       "        vertical-align: middle;\n",
       "    }\n",
       "\n",
       "    .dataframe tbody tr th {\n",
       "        vertical-align: top;\n",
       "    }\n",
       "\n",
       "    .dataframe thead th {\n",
       "        text-align: right;\n",
       "    }\n",
       "</style>\n",
       "<table border=\"1\" class=\"dataframe\">\n",
       "  <thead>\n",
       "    <tr style=\"text-align: right;\">\n",
       "      <th></th>\n",
       "      <th>id</th>\n",
       "      <th>log_price</th>\n",
       "      <th>accommodates</th>\n",
       "      <th>bathrooms</th>\n",
       "      <th>latitude</th>\n",
       "      <th>longitude</th>\n",
       "      <th>number_of_reviews</th>\n",
       "      <th>review_scores_rating</th>\n",
       "      <th>bedrooms</th>\n",
       "      <th>beds</th>\n",
       "      <th>...</th>\n",
       "      <th>bed_type</th>\n",
       "      <th>cancellation_policy</th>\n",
       "      <th>city</th>\n",
       "      <th>host_response_rate</th>\n",
       "      <th>neighbourhood</th>\n",
       "      <th>zipcode</th>\n",
       "      <th>cleaning_fee</th>\n",
       "      <th>host_has_profile_pic</th>\n",
       "      <th>host_identity_verified</th>\n",
       "      <th>instant_bookable</th>\n",
       "    </tr>\n",
       "  </thead>\n",
       "  <tbody>\n",
       "    <tr>\n",
       "      <th>0</th>\n",
       "      <td>6901257.0</td>\n",
       "      <td>5.010635</td>\n",
       "      <td>3.0</td>\n",
       "      <td>1.0</td>\n",
       "      <td>40.696524</td>\n",
       "      <td>-73.991617</td>\n",
       "      <td>2.0</td>\n",
       "      <td>100.0</td>\n",
       "      <td>1.0</td>\n",
       "      <td>1.0</td>\n",
       "      <td>...</td>\n",
       "      <td>Real Bed</td>\n",
       "      <td>strict</td>\n",
       "      <td>NYC</td>\n",
       "      <td>0</td>\n",
       "      <td>Brooklyn Heights</td>\n",
       "      <td>11201</td>\n",
       "      <td>1</td>\n",
       "      <td>1</td>\n",
       "      <td>1</td>\n",
       "      <td>1</td>\n",
       "    </tr>\n",
       "    <tr>\n",
       "      <th>1</th>\n",
       "      <td>6304928.0</td>\n",
       "      <td>5.129899</td>\n",
       "      <td>7.0</td>\n",
       "      <td>1.0</td>\n",
       "      <td>40.766115</td>\n",
       "      <td>-73.989040</td>\n",
       "      <td>6.0</td>\n",
       "      <td>93.0</td>\n",
       "      <td>3.0</td>\n",
       "      <td>3.0</td>\n",
       "      <td>...</td>\n",
       "      <td>Real Bed</td>\n",
       "      <td>strict</td>\n",
       "      <td>NYC</td>\n",
       "      <td>1.0</td>\n",
       "      <td>Hell's Kitchen</td>\n",
       "      <td>10019</td>\n",
       "      <td>1</td>\n",
       "      <td>1</td>\n",
       "      <td>0</td>\n",
       "      <td>0</td>\n",
       "    </tr>\n",
       "    <tr>\n",
       "      <th>2</th>\n",
       "      <td>7919400.0</td>\n",
       "      <td>4.976734</td>\n",
       "      <td>5.0</td>\n",
       "      <td>1.0</td>\n",
       "      <td>40.808110</td>\n",
       "      <td>-73.943756</td>\n",
       "      <td>10.0</td>\n",
       "      <td>92.0</td>\n",
       "      <td>1.0</td>\n",
       "      <td>3.0</td>\n",
       "      <td>...</td>\n",
       "      <td>Real Bed</td>\n",
       "      <td>moderate</td>\n",
       "      <td>NYC</td>\n",
       "      <td>1.0</td>\n",
       "      <td>Harlem</td>\n",
       "      <td>10027</td>\n",
       "      <td>1</td>\n",
       "      <td>1</td>\n",
       "      <td>1</td>\n",
       "      <td>1</td>\n",
       "    </tr>\n",
       "    <tr>\n",
       "      <th>3</th>\n",
       "      <td>13418779.0</td>\n",
       "      <td>6.620073</td>\n",
       "      <td>4.0</td>\n",
       "      <td>1.0</td>\n",
       "      <td>37.772004</td>\n",
       "      <td>-122.431619</td>\n",
       "      <td>0.0</td>\n",
       "      <td>96.0</td>\n",
       "      <td>2.0</td>\n",
       "      <td>2.0</td>\n",
       "      <td>...</td>\n",
       "      <td>Real Bed</td>\n",
       "      <td>flexible</td>\n",
       "      <td>SF</td>\n",
       "      <td>0</td>\n",
       "      <td>Lower Haight</td>\n",
       "      <td>94117</td>\n",
       "      <td>1</td>\n",
       "      <td>1</td>\n",
       "      <td>1</td>\n",
       "      <td>1</td>\n",
       "    </tr>\n",
       "    <tr>\n",
       "      <th>4</th>\n",
       "      <td>3808709.0</td>\n",
       "      <td>4.744932</td>\n",
       "      <td>2.0</td>\n",
       "      <td>1.0</td>\n",
       "      <td>38.925627</td>\n",
       "      <td>-77.034596</td>\n",
       "      <td>4.0</td>\n",
       "      <td>40.0</td>\n",
       "      <td>0.0</td>\n",
       "      <td>1.0</td>\n",
       "      <td>...</td>\n",
       "      <td>Real Bed</td>\n",
       "      <td>moderate</td>\n",
       "      <td>DC</td>\n",
       "      <td>1.0</td>\n",
       "      <td>Columbia Heights</td>\n",
       "      <td>20009</td>\n",
       "      <td>1</td>\n",
       "      <td>1</td>\n",
       "      <td>1</td>\n",
       "      <td>1</td>\n",
       "    </tr>\n",
       "  </tbody>\n",
       "</table>\n",
       "<p>5 rows × 22 columns</p>\n",
       "</div>"
      ],
      "text/plain": [
       "           id  log_price  accommodates  bathrooms   latitude   longitude  \\\n",
       "0   6901257.0   5.010635           3.0        1.0  40.696524  -73.991617   \n",
       "1   6304928.0   5.129899           7.0        1.0  40.766115  -73.989040   \n",
       "2   7919400.0   4.976734           5.0        1.0  40.808110  -73.943756   \n",
       "3  13418779.0   6.620073           4.0        1.0  37.772004 -122.431619   \n",
       "4   3808709.0   4.744932           2.0        1.0  38.925627  -77.034596   \n",
       "\n",
       "   number_of_reviews  review_scores_rating  bedrooms  beds  ...  bed_type  \\\n",
       "0                2.0                 100.0       1.0   1.0  ...  Real Bed   \n",
       "1                6.0                  93.0       3.0   3.0  ...  Real Bed   \n",
       "2               10.0                  92.0       1.0   3.0  ...  Real Bed   \n",
       "3                0.0                  96.0       2.0   2.0  ...  Real Bed   \n",
       "4                4.0                  40.0       0.0   1.0  ...  Real Bed   \n",
       "\n",
       "  cancellation_policy city host_response_rate     neighbourhood zipcode  \\\n",
       "0              strict  NYC                  0  Brooklyn Heights   11201   \n",
       "1              strict  NYC                1.0    Hell's Kitchen   10019   \n",
       "2            moderate  NYC                1.0            Harlem   10027   \n",
       "3            flexible   SF                  0      Lower Haight   94117   \n",
       "4            moderate   DC                1.0  Columbia Heights   20009   \n",
       "\n",
       "  cleaning_fee host_has_profile_pic  host_identity_verified  instant_bookable  \n",
       "0            1                    1                       1                 1  \n",
       "1            1                    1                       0                 0  \n",
       "2            1                    1                       1                 1  \n",
       "3            1                    1                       1                 1  \n",
       "4            1                    1                       1                 1  \n",
       "\n",
       "[5 rows x 22 columns]"
      ]
     },
     "execution_count": 58,
     "metadata": {},
     "output_type": "execute_result"
    }
   ],
   "source": [
    "airbnb_train_final = pd.concat([airbnb_train_fill, airbnb_train_obj ,airbnb_train_bool],axis=1)\n",
    "airbnb_train_final.head()"
   ]
  },
  {
   "cell_type": "code",
   "execution_count": 59,
   "metadata": {
    "scrolled": true
   },
   "outputs": [
    {
     "data": {
      "text/plain": [
       "id                           0\n",
       "log_price                    0\n",
       "accommodates                 0\n",
       "bathrooms                    0\n",
       "latitude                     0\n",
       "longitude                    0\n",
       "number_of_reviews            0\n",
       "review_scores_rating         0\n",
       "bedrooms                     0\n",
       "beds                         0\n",
       "property_type             7451\n",
       "room_type                 7451\n",
       "bed_type                  7451\n",
       "cancellation_policy       7451\n",
       "city                      7451\n",
       "host_response_rate        7451\n",
       "neighbourhood             7451\n",
       "zipcode                   7451\n",
       "cleaning_fee                 0\n",
       "host_has_profile_pic         0\n",
       "host_identity_verified       0\n",
       "instant_bookable             0\n",
       "dtype: int64"
      ]
     },
     "execution_count": 59,
     "metadata": {},
     "output_type": "execute_result"
    }
   ],
   "source": [
    "airbnb_train_final.isnull().sum()"
   ]
  },
  {
   "cell_type": "code",
   "execution_count": 60,
   "metadata": {},
   "outputs": [],
   "source": [
    "cols =  list(airbnb_train_final.columns)"
   ]
  },
  {
   "cell_type": "code",
   "execution_count": 61,
   "metadata": {},
   "outputs": [],
   "source": [
    "airbnb_train_final.dropna(subset=cols, inplace=True)"
   ]
  },
  {
   "cell_type": "code",
   "execution_count": 62,
   "metadata": {},
   "outputs": [
    {
     "data": {
      "text/plain": [
       "id                        0\n",
       "log_price                 0\n",
       "accommodates              0\n",
       "bathrooms                 0\n",
       "latitude                  0\n",
       "longitude                 0\n",
       "number_of_reviews         0\n",
       "review_scores_rating      0\n",
       "bedrooms                  0\n",
       "beds                      0\n",
       "property_type             0\n",
       "room_type                 0\n",
       "bed_type                  0\n",
       "cancellation_policy       0\n",
       "city                      0\n",
       "host_response_rate        0\n",
       "neighbourhood             0\n",
       "zipcode                   0\n",
       "cleaning_fee              0\n",
       "host_has_profile_pic      0\n",
       "host_identity_verified    0\n",
       "instant_bookable          0\n",
       "dtype: int64"
      ]
     },
     "execution_count": 62,
     "metadata": {},
     "output_type": "execute_result"
    }
   ],
   "source": [
    "airbnb_train_final.isnull().sum()"
   ]
  },
  {
   "cell_type": "code",
   "execution_count": 63,
   "metadata": {},
   "outputs": [],
   "source": [
    "airbnb_train_final['review_scores_rating'] = airbnb_train_final['review_scores_rating']/100\n",
    "airbnb_train_final[\"host_response_rate\"] = airbnb_train_final[\"host_response_rate\"].astype(str).astype(float)"
   ]
  },
  {
   "cell_type": "markdown",
   "metadata": {},
   "source": [
    "### Test "
   ]
  },
  {
   "cell_type": "code",
   "execution_count": 64,
   "metadata": {},
   "outputs": [
    {
     "data": {
      "text/html": [
       "<div>\n",
       "<style scoped>\n",
       "    .dataframe tbody tr th:only-of-type {\n",
       "        vertical-align: middle;\n",
       "    }\n",
       "\n",
       "    .dataframe tbody tr th {\n",
       "        vertical-align: top;\n",
       "    }\n",
       "\n",
       "    .dataframe thead th {\n",
       "        text-align: right;\n",
       "    }\n",
       "</style>\n",
       "<table border=\"1\" class=\"dataframe\">\n",
       "  <thead>\n",
       "    <tr style=\"text-align: right;\">\n",
       "      <th></th>\n",
       "      <th>id</th>\n",
       "      <th>accommodates</th>\n",
       "      <th>bathrooms</th>\n",
       "      <th>latitude</th>\n",
       "      <th>longitude</th>\n",
       "      <th>number_of_reviews</th>\n",
       "      <th>review_scores_rating</th>\n",
       "      <th>bedrooms</th>\n",
       "      <th>beds</th>\n",
       "      <th>property_type</th>\n",
       "      <th>...</th>\n",
       "      <th>bed_type</th>\n",
       "      <th>cancellation_policy</th>\n",
       "      <th>city</th>\n",
       "      <th>host_response_rate</th>\n",
       "      <th>neighbourhood</th>\n",
       "      <th>zipcode</th>\n",
       "      <th>cleaning_fee</th>\n",
       "      <th>host_has_profile_pic</th>\n",
       "      <th>host_identity_verified</th>\n",
       "      <th>instant_bookable</th>\n",
       "    </tr>\n",
       "  </thead>\n",
       "  <tbody>\n",
       "    <tr>\n",
       "      <th>0</th>\n",
       "      <td>3895911.0</td>\n",
       "      <td>2.0</td>\n",
       "      <td>1.0</td>\n",
       "      <td>34.028372</td>\n",
       "      <td>-118.494449</td>\n",
       "      <td>6.0</td>\n",
       "      <td>97.0</td>\n",
       "      <td>1.0</td>\n",
       "      <td>1.0</td>\n",
       "      <td>Apartment</td>\n",
       "      <td>...</td>\n",
       "      <td>Real Bed</td>\n",
       "      <td>flexible</td>\n",
       "      <td>LA</td>\n",
       "      <td>1.0</td>\n",
       "      <td>Santa Monica</td>\n",
       "      <td>90403</td>\n",
       "      <td>1</td>\n",
       "      <td>1</td>\n",
       "      <td>0</td>\n",
       "      <td>0</td>\n",
       "    </tr>\n",
       "    <tr>\n",
       "      <th>1</th>\n",
       "      <td>9710289.0</td>\n",
       "      <td>3.0</td>\n",
       "      <td>1.0</td>\n",
       "      <td>40.720380</td>\n",
       "      <td>-73.942329</td>\n",
       "      <td>2.0</td>\n",
       "      <td>80.0</td>\n",
       "      <td>1.0</td>\n",
       "      <td>1.0</td>\n",
       "      <td>Apartment</td>\n",
       "      <td>...</td>\n",
       "      <td>Real Bed</td>\n",
       "      <td>moderate</td>\n",
       "      <td>NYC</td>\n",
       "      <td>1.0</td>\n",
       "      <td>Williamsburg</td>\n",
       "      <td>11222</td>\n",
       "      <td>1</td>\n",
       "      <td>1</td>\n",
       "      <td>1</td>\n",
       "      <td>1</td>\n",
       "    </tr>\n",
       "    <tr>\n",
       "      <th>2</th>\n",
       "      <td>9051635.0</td>\n",
       "      <td>1.0</td>\n",
       "      <td>1.0</td>\n",
       "      <td>37.785434</td>\n",
       "      <td>-122.470284</td>\n",
       "      <td>2.0</td>\n",
       "      <td>100.0</td>\n",
       "      <td>1.0</td>\n",
       "      <td>1.0</td>\n",
       "      <td>Apartment</td>\n",
       "      <td>...</td>\n",
       "      <td>Real Bed</td>\n",
       "      <td>moderate</td>\n",
       "      <td>SF</td>\n",
       "      <td>1.0</td>\n",
       "      <td>Richmond District</td>\n",
       "      <td>94118</td>\n",
       "      <td>1</td>\n",
       "      <td>1</td>\n",
       "      <td>1</td>\n",
       "      <td>1</td>\n",
       "    </tr>\n",
       "    <tr>\n",
       "      <th>3</th>\n",
       "      <td>708374.0</td>\n",
       "      <td>1.0</td>\n",
       "      <td>1.0</td>\n",
       "      <td>33.976026</td>\n",
       "      <td>-118.463471</td>\n",
       "      <td>7.0</td>\n",
       "      <td>94.0</td>\n",
       "      <td>0.0</td>\n",
       "      <td>1.0</td>\n",
       "      <td>Apartment</td>\n",
       "      <td>...</td>\n",
       "      <td>Real Bed</td>\n",
       "      <td>strict</td>\n",
       "      <td>LA</td>\n",
       "      <td>1.0</td>\n",
       "      <td>Marina Del Rey</td>\n",
       "      <td>90292</td>\n",
       "      <td>1</td>\n",
       "      <td>1</td>\n",
       "      <td>1</td>\n",
       "      <td>1</td>\n",
       "    </tr>\n",
       "    <tr>\n",
       "      <th>4</th>\n",
       "      <td>626296.0</td>\n",
       "      <td>2.0</td>\n",
       "      <td>1.0</td>\n",
       "      <td>40.735573</td>\n",
       "      <td>-74.005996</td>\n",
       "      <td>0.0</td>\n",
       "      <td>96.0</td>\n",
       "      <td>1.0</td>\n",
       "      <td>1.0</td>\n",
       "      <td>Apartment</td>\n",
       "      <td>...</td>\n",
       "      <td>Real Bed</td>\n",
       "      <td>flexible</td>\n",
       "      <td>NYC</td>\n",
       "      <td>0</td>\n",
       "      <td>West Village</td>\n",
       "      <td>10014</td>\n",
       "      <td>1</td>\n",
       "      <td>1</td>\n",
       "      <td>1</td>\n",
       "      <td>1</td>\n",
       "    </tr>\n",
       "  </tbody>\n",
       "</table>\n",
       "<p>5 rows × 21 columns</p>\n",
       "</div>"
      ],
      "text/plain": [
       "          id  accommodates  bathrooms   latitude   longitude  \\\n",
       "0  3895911.0           2.0        1.0  34.028372 -118.494449   \n",
       "1  9710289.0           3.0        1.0  40.720380  -73.942329   \n",
       "2  9051635.0           1.0        1.0  37.785434 -122.470284   \n",
       "3   708374.0           1.0        1.0  33.976026 -118.463471   \n",
       "4   626296.0           2.0        1.0  40.735573  -74.005996   \n",
       "\n",
       "   number_of_reviews  review_scores_rating  bedrooms  beds property_type  ...  \\\n",
       "0                6.0                  97.0       1.0   1.0     Apartment  ...   \n",
       "1                2.0                  80.0       1.0   1.0     Apartment  ...   \n",
       "2                2.0                 100.0       1.0   1.0     Apartment  ...   \n",
       "3                7.0                  94.0       0.0   1.0     Apartment  ...   \n",
       "4                0.0                  96.0       1.0   1.0     Apartment  ...   \n",
       "\n",
       "   bed_type cancellation_policy city host_response_rate      neighbourhood  \\\n",
       "0  Real Bed            flexible   LA                1.0       Santa Monica   \n",
       "1  Real Bed            moderate  NYC                1.0       Williamsburg   \n",
       "2  Real Bed            moderate   SF                1.0  Richmond District   \n",
       "3  Real Bed              strict   LA                1.0     Marina Del Rey   \n",
       "4  Real Bed            flexible  NYC                  0       West Village   \n",
       "\n",
       "  zipcode cleaning_fee  host_has_profile_pic  host_identity_verified  \\\n",
       "0   90403            1                     1                       0   \n",
       "1   11222            1                     1                       1   \n",
       "2   94118            1                     1                       1   \n",
       "3   90292            1                     1                       1   \n",
       "4   10014            1                     1                       1   \n",
       "\n",
       "   instant_bookable  \n",
       "0                 0  \n",
       "1                 1  \n",
       "2                 1  \n",
       "3                 1  \n",
       "4                 1  \n",
       "\n",
       "[5 rows x 21 columns]"
      ]
     },
     "execution_count": 64,
     "metadata": {},
     "output_type": "execute_result"
    }
   ],
   "source": [
    "airbnb_test_final = pd.concat([airbnb_test_fill, airbnb_test_obj ,airbnb_test_bool], axis=1)\n",
    "airbnb_test_final.head()"
   ]
  },
  {
   "cell_type": "code",
   "execution_count": 65,
   "metadata": {
    "scrolled": true
   },
   "outputs": [
    {
     "data": {
      "text/plain": [
       "id                           0\n",
       "accommodates                 0\n",
       "bathrooms                    0\n",
       "latitude                     0\n",
       "longitude                    0\n",
       "number_of_reviews            0\n",
       "review_scores_rating         0\n",
       "bedrooms                     0\n",
       "beds                         0\n",
       "property_type             2661\n",
       "room_type                 2661\n",
       "bed_type                  2661\n",
       "cancellation_policy       2661\n",
       "city                      2661\n",
       "host_response_rate        2661\n",
       "neighbourhood             2661\n",
       "zipcode                   2661\n",
       "cleaning_fee                 0\n",
       "host_has_profile_pic         0\n",
       "host_identity_verified       0\n",
       "instant_bookable             0\n",
       "dtype: int64"
      ]
     },
     "execution_count": 65,
     "metadata": {},
     "output_type": "execute_result"
    }
   ],
   "source": [
    "airbnb_test_final.isnull().sum()"
   ]
  },
  {
   "cell_type": "code",
   "execution_count": 66,
   "metadata": {},
   "outputs": [],
   "source": [
    "cols =  list(airbnb_test_final.columns)"
   ]
  },
  {
   "cell_type": "code",
   "execution_count": 67,
   "metadata": {},
   "outputs": [],
   "source": [
    "airbnb_test_final.dropna(subset=cols, inplace=True)"
   ]
  },
  {
   "cell_type": "code",
   "execution_count": 68,
   "metadata": {},
   "outputs": [
    {
     "data": {
      "text/plain": [
       "id                        0\n",
       "accommodates              0\n",
       "bathrooms                 0\n",
       "latitude                  0\n",
       "longitude                 0\n",
       "number_of_reviews         0\n",
       "review_scores_rating      0\n",
       "bedrooms                  0\n",
       "beds                      0\n",
       "property_type             0\n",
       "room_type                 0\n",
       "bed_type                  0\n",
       "cancellation_policy       0\n",
       "city                      0\n",
       "host_response_rate        0\n",
       "neighbourhood             0\n",
       "zipcode                   0\n",
       "cleaning_fee              0\n",
       "host_has_profile_pic      0\n",
       "host_identity_verified    0\n",
       "instant_bookable          0\n",
       "dtype: int64"
      ]
     },
     "execution_count": 68,
     "metadata": {},
     "output_type": "execute_result"
    }
   ],
   "source": [
    "airbnb_test_final.isnull().sum()"
   ]
  },
  {
   "cell_type": "code",
   "execution_count": 69,
   "metadata": {},
   "outputs": [
    {
     "name": "stdout",
     "output_type": "stream",
     "text": [
      "<class 'pandas.core.frame.DataFrame'>\n",
      "Int64Index: 22797 entries, 0 to 25457\n",
      "Data columns (total 21 columns):\n",
      " #   Column                  Non-Null Count  Dtype  \n",
      "---  ------                  --------------  -----  \n",
      " 0   id                      22797 non-null  float64\n",
      " 1   accommodates            22797 non-null  float64\n",
      " 2   bathrooms               22797 non-null  float64\n",
      " 3   latitude                22797 non-null  float64\n",
      " 4   longitude               22797 non-null  float64\n",
      " 5   number_of_reviews       22797 non-null  float64\n",
      " 6   review_scores_rating    22797 non-null  float64\n",
      " 7   bedrooms                22797 non-null  float64\n",
      " 8   beds                    22797 non-null  float64\n",
      " 9   property_type           22797 non-null  object \n",
      " 10  room_type               22797 non-null  object \n",
      " 11  bed_type                22797 non-null  object \n",
      " 12  cancellation_policy     22797 non-null  object \n",
      " 13  city                    22797 non-null  object \n",
      " 14  host_response_rate      22797 non-null  float64\n",
      " 15  neighbourhood           22797 non-null  object \n",
      " 16  zipcode                 22797 non-null  object \n",
      " 17  cleaning_fee            22797 non-null  int32  \n",
      " 18  host_has_profile_pic    22797 non-null  int32  \n",
      " 19  host_identity_verified  22797 non-null  int32  \n",
      " 20  instant_bookable        22797 non-null  int32  \n",
      "dtypes: float64(10), int32(4), object(7)\n",
      "memory usage: 3.5+ MB\n"
     ]
    }
   ],
   "source": [
    "airbnb_test_final['review_scores_rating'] = airbnb_test_final['review_scores_rating']/100\n",
    "airbnb_test_final[\"host_response_rate\"] = airbnb_test_final[\"host_response_rate\"].astype(str).astype(float)\n",
    "airbnb_test_final.info()"
   ]
  },
  {
   "cell_type": "markdown",
   "metadata": {},
   "source": [
    "# Predicting Prices of Chicago AirBnB Apartments"
   ]
  },
  {
   "cell_type": "code",
   "execution_count": 70,
   "metadata": {},
   "outputs": [],
   "source": [
    "# Training Data\n",
    "CHI_airbnb_train = city_airbnb_type(airbnb_train_final, 'Chicago', 'Apartment')\n",
    "LA_airbnb_train = city_airbnb_type(airbnb_train_final, 'LA', 'Apartment')\n",
    "SF_airbnb_train = city_airbnb_type(airbnb_train_final, 'SF', 'Apartment')\n",
    "DC_airbnb_train = city_airbnb_type(airbnb_train_final, 'DC', 'Apartment')\n",
    "BOS_airbnb_train = city_airbnb_type(airbnb_train_final, 'Boston', 'Apartment')\n",
    "NYC_airbnb_train = city_airbnb_type(airbnb_train_final, 'NYC', 'Apartment')\n",
    "\n",
    "\n",
    "# Testing Data\n",
    "CHI_airbnb_test = city_airbnb_type(airbnb_test_final, 'Chicago', 'Apartment')\n",
    "LA_airbnb_test = city_airbnb_type(airbnb_test_final, 'LA', 'Apartment')\n",
    "SF_airbnb_test = city_airbnb_type(airbnb_test_final, 'SF', 'Apartment')\n",
    "DC_airbnb_test = city_airbnb_type(airbnb_test_final, 'DC', 'Apartment')\n",
    "BOS_airbnb_test = city_airbnb_type(airbnb_test_final, 'Boston', 'Apartment')\n",
    "NYC_airbnb_test = city_airbnb_type(airbnb_test_final, 'NYC', 'Apartment')"
   ]
  },
  {
   "cell_type": "markdown",
   "metadata": {},
   "source": [
    "# Data Normalization"
   ]
  },
  {
   "cell_type": "code",
   "execution_count": 71,
   "metadata": {},
   "outputs": [],
   "source": [
    "# Dropping unused featuers\n",
    "CHI_airbnb_train_scores = CHI_airbnb_train.drop(['beds','bed_type','latitude','longitude','room_type','neighbourhood','property_type','zipcode','city','cancellation_policy'], axis = 1)\n",
    "LA_airbnb_train_scores = LA_airbnb_train.drop(['beds','bed_type','latitude','longitude','room_type','neighbourhood','property_type','zipcode','city','cancellation_policy'], axis = 1)\n",
    "SF_airbnb_train_scores = SF_airbnb_train.drop(['beds','bed_type','latitude','longitude','room_type','neighbourhood','property_type','zipcode','city','cancellation_policy'], axis = 1)\n",
    "DC_airbnb_train_scores = DC_airbnb_train.drop(['beds','bed_type','latitude','longitude','room_type','neighbourhood','property_type','zipcode','city','cancellation_policy'], axis = 1)\n",
    "BOS_airbnb_train_scores = BOS_airbnb_train.drop(['beds','bed_type','latitude','longitude','room_type','neighbourhood','property_type','zipcode','city','cancellation_policy'], axis = 1)\n",
    "NYC_airbnb_train_scores = NYC_airbnb_train.drop(['beds','bed_type','latitude','longitude','room_type','neighbourhood','property_type','zipcode','city','cancellation_policy'], axis = 1)"
   ]
  },
  {
   "cell_type": "code",
   "execution_count": 72,
   "metadata": {},
   "outputs": [],
   "source": [
    "X_CHI = CHI_airbnb_train_scores.drop(['id','log_price'], axis = 1)\n",
    "y_CHI = CHI_airbnb_train_scores.log_price\n",
    "\n",
    "X_LA = LA_airbnb_train_scores.drop(['id','log_price'], axis = 1)\n",
    "y_LA = LA_airbnb_train_scores.log_price\n",
    "\n",
    "X_SF = SF_airbnb_train_scores.drop(['id','log_price'], axis = 1)\n",
    "y_SF = SF_airbnb_train_scores.log_price\n",
    "\n",
    "\n",
    "X_DC = DC_airbnb_train_scores.drop(['id','log_price'], axis = 1)\n",
    "y_DC = DC_airbnb_train_scores.log_price\n",
    "\n",
    "X_BOS = BOS_airbnb_train_scores.drop(['id','log_price'], axis = 1)\n",
    "y_BOS = BOS_airbnb_train_scores.log_price\n",
    "\n",
    "\n",
    "X_NYC = NYC_airbnb_train_scores.drop(['id','log_price'], axis = 1)\n",
    "y_NYC = NYC_airbnb_train_scores.log_price"
   ]
  },
  {
   "cell_type": "code",
   "execution_count": 102,
   "metadata": {},
   "outputs": [],
   "source": [
    "lr1 = LinearRegression()\n",
    "CV = 10\n",
    "\n",
    "\n",
    "scores_CHI = abs(cross_val_score(lr1, X_CHI, y_CHI, scoring='neg_mean_squared_error', cv = CV, n_jobs= -1))\n",
    "scores_LA = abs(cross_val_score(lr1, X_LA, y_LA, scoring='neg_mean_squared_error', cv = CV, n_jobs= -1))\n",
    "scores_SF = abs(cross_val_score(lr1, X_SF, y_SF, scoring='neg_mean_squared_error', cv = CV, n_jobs= -1))\n",
    "scores_DC = abs(cross_val_score(lr1, X_DC, y_DC, scoring='neg_mean_squared_error', cv = CV, n_jobs= -1))\n",
    "scores_BOS = abs(cross_val_score(lr1, X_BOS, y_BOS, scoring='neg_mean_squared_error', cv = CV, n_jobs= -1))\n",
    "scores_NYC = abs(cross_val_score(lr1, X_NYC, y_NYC, scoring='neg_mean_squared_error', cv = CV, n_jobs= -1))"
   ]
  },
  {
   "cell_type": "code",
   "execution_count": 103,
   "metadata": {},
   "outputs": [
    {
     "name": "stdout",
     "output_type": "stream",
     "text": [
      "Minimum MSE for Chicago: 0.20481\n",
      "Maximum MSE for Chicago: 0.32851\n",
      "Mean MSE for Chicago: 0.2731\n",
      "\n",
      "Minimum MSE for LA: 0.18477\n",
      "Maximum MSE for LA: 0.21984\n",
      "Mean MSE for LA: 0.20075\n",
      "\n",
      "Minimum MSE for SF: 0.21894\n",
      "Maximum MSE for SF: 0.29452\n",
      "Mean MSE for SF: 0.25216\n",
      "\n",
      "Minimum MSE for DC: 0.31589\n",
      "Maximum MSE for DC: 0.47818\n",
      "Mean MSE for DC: 0.39343\n",
      "\n",
      "Minimum MSE for BOS: 0.25809\n",
      "Maximum MSE for BOS: 0.32576\n",
      "Mean MSE for BOS: 0.2911\n",
      "\n",
      "Minimum MSE for NYC: 0.25827\n",
      "Maximum MSE for NYC: 0.28582\n",
      "Mean MSE for NYC: 0.27552\n"
     ]
    }
   ],
   "source": [
    "print(\"Minimum MSE for Chicago:\", round(scores_CHI.min(),5))\n",
    "print(\"Maximum MSE for Chicago:\", round(scores_CHI.max(),5))\n",
    "print(\"Mean MSE for Chicago:\", round(scores_CHI.mean(),5))\n",
    "print(\"\")\n",
    "print(\"Minimum MSE for LA:\", round(scores_LA.min(),5))\n",
    "print(\"Maximum MSE for LA:\", round(scores_LA.max(),5))\n",
    "print(\"Mean MSE for LA:\", round(scores_LA.mean(),5))\n",
    "print(\"\")\n",
    "print(\"Minimum MSE for SF:\", round(scores_SF.min(),5))\n",
    "print(\"Maximum MSE for SF:\", round(scores_SF.max(),5))\n",
    "print(\"Mean MSE for SF:\", round(scores_SF.mean(),5))\n",
    "print(\"\")\n",
    "print(\"Minimum MSE for DC:\", round(scores_DC.min(),5))\n",
    "print(\"Maximum MSE for DC:\", round(scores_DC.max(),5))\n",
    "print(\"Mean MSE for DC:\", round(scores_DC.mean(),5))\n",
    "print(\"\")\n",
    "print(\"Minimum MSE for BOS:\", round(scores_BOS.min(),5))\n",
    "print(\"Maximum MSE for BOS:\", round(scores_BOS.max(),5))\n",
    "print(\"Mean MSE for BOS:\", round(scores_BOS.mean(),5))\n",
    "print(\"\")\n",
    "print(\"Minimum MSE for NYC:\", round(scores_NYC.min(),5))\n",
    "print(\"Maximum MSE for NYC:\", round(scores_NYC.max(),5))\n",
    "print(\"Mean MSE for NYC:\", round(scores_NYC.mean(),5))"
   ]
  },
  {
   "cell_type": "code",
   "execution_count": 86,
   "metadata": {},
   "outputs": [],
   "source": [
    "# Training Data\n",
    "CHI_airbnb_train = city_airbnb_type(airbnb_train_final, 'Chicago', 'Apartment')\n",
    "LA_airbnb_train = city_airbnb_type(airbnb_train_final, 'LA', 'Apartment')\n",
    "SF_airbnb_train = city_airbnb_type(airbnb_train_final, 'SF', 'Apartment')\n",
    "DC_airbnb_train = city_airbnb_type(airbnb_train_final, 'DC', 'Apartment')\n",
    "BOS_airbnb_train = city_airbnb_type(airbnb_train_final, 'Boston', 'Apartment')\n",
    "NYC_airbnb_train = city_airbnb_type(airbnb_train_final, 'NYC', 'Apartment')\n",
    "\n",
    "\n",
    "# Testing Data\n",
    "CHI_airbnb_test = city_airbnb_type(airbnb_test_final, 'Chicago', 'Apartment')\n",
    "LA_airbnb_test = city_airbnb_type(airbnb_test_final, 'LA', 'Apartment')\n",
    "SF_airbnb_test = city_airbnb_type(airbnb_test_final, 'SF', 'Apartment')\n",
    "DC_airbnb_test = city_airbnb_type(airbnb_test_final, 'DC', 'Apartment')\n",
    "BOS_airbnb_test = city_airbnb_type(airbnb_test_final, 'Boston', 'Apartment')\n",
    "NYC_airbnb_test = city_airbnb_type(airbnb_test_final, 'NYC', 'Apartment')"
   ]
  },
  {
   "cell_type": "code",
   "execution_count": 87,
   "metadata": {},
   "outputs": [],
   "source": [
    "MSE_CHI, r2_CHI, y_test_CHI, y_pred_CHI, y_pred_test_CHI, location_train_CHI, location_test_CHI, normal_features_CHI, normal_test_features_CHI  = airbnb_regression(CHI_airbnb_train, CHI_airbnb_test)\n",
    "MSE_LA, r2_LA, y_test_LA, y_pred_LA, y_pred_test_LA, location_train_LA, location_test_LA, normal_features_LA, normal_test_features_LA  = airbnb_regression(LA_airbnb_train, LA_airbnb_test)\n",
    "MSE_SF, r2_SF, y_test_SF, y_pred_SF, y_pred_test_SF, location_train_SF, location_test_SF, normal_features_SF, normal_test_features_SF  = airbnb_regression(SF_airbnb_train, SF_airbnb_test)\n",
    "MSE_DC, r2_DC, y_test_DC, y_pred_DC, y_pred_test_DC, location_train_DC, location_test_DC, normal_features_DC, normal_test_features_DC  = airbnb_regression(DC_airbnb_train, DC_airbnb_test)\n",
    "MSE_BOS, r2_BOS, y_test_BOS, y_pred_BOS, y_pred_test_BOS, location_train_BOS, location_test_BOS, normal_features_BOS, normal_test_features_BOS  = airbnb_regression(BOS_airbnb_train, BOS_airbnb_test)\n",
    "MSE_NYC, r2_NYC, y_test_NYC, y_pred_NYC, y_pred_test_NYC, location_train_NYC, location_test_NYC, normal_features_NYC, normal_test_features_NYC  = airbnb_regression(NYC_airbnb_train, NYC_airbnb_test)"
   ]
  },
  {
   "cell_type": "code",
   "execution_count": 96,
   "metadata": {},
   "outputs": [],
   "source": [
    "CHI_train_pred_df = normal_features_CHI.copy()\n",
    "CHI_train_pred_df['real_log_price'] = y_test_CHI\n",
    "CHI_train_pred_df['pred_log_price'] = y_pred_CHI\n",
    "CHI_train_pred_df = CHI_train_pred_df.merge(location_train_CHI, left_on='id', right_on='id')"
   ]
  },
  {
   "cell_type": "code",
   "execution_count": 97,
   "metadata": {},
   "outputs": [],
   "source": [
    "LA_train_pred_df = normal_features_LA.copy()\n",
    "LA_train_pred_df['real_log_price'] = y_test_LA\n",
    "LA_train_pred_df['pred_log_price'] = y_pred_LA\n",
    "LA_train_pred_df = LA_train_pred_df.merge(location_train_LA, left_on='id', right_on='id')"
   ]
  },
  {
   "cell_type": "code",
   "execution_count": 98,
   "metadata": {},
   "outputs": [],
   "source": [
    "SF_train_pred_df = normal_features_SF.copy()\n",
    "SF_train_pred_df['real_log_price'] = y_test_SF\n",
    "SF_train_pred_df['pred_log_price'] = y_pred_SF\n",
    "SF_train_pred_df = SF_train_pred_df.merge(location_train_SF, left_on='id', right_on='id')"
   ]
  },
  {
   "cell_type": "code",
   "execution_count": 99,
   "metadata": {},
   "outputs": [],
   "source": [
    "DC_train_pred_df = normal_features_DC.copy()\n",
    "DC_train_pred_df['real_log_price'] = y_test_DC\n",
    "DC_train_pred_df['pred_log_price'] = y_pred_DC\n",
    "DC_train_pred_df = DC_train_pred_df.merge(location_train_DC, left_on='id', right_on='id')"
   ]
  },
  {
   "cell_type": "code",
   "execution_count": 100,
   "metadata": {},
   "outputs": [],
   "source": [
    "BOS_train_pred_df = normal_features_BOS.copy()\n",
    "BOS_train_pred_df['real_log_price'] = y_test_BOS\n",
    "BOS_train_pred_df['pred_log_price'] = y_pred_BOS\n",
    "BOS_train_pred_df = BOS_train_pred_df.merge(location_train_BOS, left_on='id', right_on='id')"
   ]
  },
  {
   "cell_type": "code",
   "execution_count": 101,
   "metadata": {},
   "outputs": [],
   "source": [
    "NYC_train_pred_df = normal_features_NYC.copy()\n",
    "NYC_train_pred_df['real_log_price'] = y_test_NYC\n",
    "NYC_train_pred_df['pred_log_price'] = y_pred_NYC\n",
    "NYC_train_pred_df = NYC_train_pred_df.merge(location_train_NYC, left_on='id', right_on='id')"
   ]
  },
  {
   "cell_type": "code",
   "execution_count": 120,
   "metadata": {},
   "outputs": [
    {
     "data": {
      "text/html": [
       "<div>\n",
       "<style scoped>\n",
       "    .dataframe tbody tr th:only-of-type {\n",
       "        vertical-align: middle;\n",
       "    }\n",
       "\n",
       "    .dataframe tbody tr th {\n",
       "        vertical-align: top;\n",
       "    }\n",
       "\n",
       "    .dataframe thead th {\n",
       "        text-align: right;\n",
       "    }\n",
       "</style>\n",
       "<table border=\"1\" class=\"dataframe\">\n",
       "  <thead>\n",
       "    <tr style=\"text-align: right;\">\n",
       "      <th></th>\n",
       "      <th>Location</th>\n",
       "      <th>MSE</th>\n",
       "      <th>R2</th>\n",
       "    </tr>\n",
       "  </thead>\n",
       "  <tbody>\n",
       "    <tr>\n",
       "      <th>0</th>\n",
       "      <td>Boston</td>\n",
       "      <td>0.333781</td>\n",
       "      <td>0.228437</td>\n",
       "    </tr>\n",
       "    <tr>\n",
       "      <th>1</th>\n",
       "      <td>Chicago</td>\n",
       "      <td>0.300996</td>\n",
       "      <td>0.326924</td>\n",
       "    </tr>\n",
       "    <tr>\n",
       "      <th>2</th>\n",
       "      <td>DC</td>\n",
       "      <td>0.372702</td>\n",
       "      <td>0.260852</td>\n",
       "    </tr>\n",
       "    <tr>\n",
       "      <th>3</th>\n",
       "      <td>LA</td>\n",
       "      <td>0.191728</td>\n",
       "      <td>0.358528</td>\n",
       "    </tr>\n",
       "    <tr>\n",
       "      <th>4</th>\n",
       "      <td>NYC</td>\n",
       "      <td>0.275918</td>\n",
       "      <td>0.310660</td>\n",
       "    </tr>\n",
       "    <tr>\n",
       "      <th>5</th>\n",
       "      <td>SF</td>\n",
       "      <td>0.328873</td>\n",
       "      <td>0.221190</td>\n",
       "    </tr>\n",
       "  </tbody>\n",
       "</table>\n",
       "</div>"
      ],
      "text/plain": [
       "  Location       MSE        R2\n",
       "0   Boston  0.333781  0.228437\n",
       "1  Chicago  0.300996  0.326924\n",
       "2       DC  0.372702  0.260852\n",
       "3       LA  0.191728  0.358528\n",
       "4      NYC  0.275918  0.310660\n",
       "5       SF  0.328873  0.221190"
      ]
     },
     "execution_count": 120,
     "metadata": {},
     "output_type": "execute_result"
    }
   ],
   "source": [
    "scores_df = pd.DataFrame([[MSE_BOS,MSE_CHI,MSE_DC,MSE_LA,MSE_NYC,MSE_SF]], index=['Location'],columns=['Boston','Chicago',                                                                                  'DC','LA','NYC','SF'])\n",
    "scores_df = scores_df.T.copy()\n",
    "scores_df.reset_index(inplace=True)\n",
    "scores_df.rename(columns={\"index\": \"Location\", \"Location\": \"MSE\"}, errors=\"raise\", inplace=True)\n",
    "\n",
    "scoresr_df = pd.DataFrame([[r2_BOS,r2_CHI,r2_DC,r2_LA,r2_NYC,r2_SF]], index=['Location'],columns=['Boston','Chicago',                                                                               'DC','LA','NYC','SF'])\n",
    "scoresr_df = scoresr_df.T.copy()\n",
    "scoresr_df.reset_index(inplace=True)\n",
    "scoresr_df.rename(columns={\"index\": \"Location\", \"Location\": \"R2\"}, errors=\"raise\", inplace=True)\n",
    "\n",
    "scores_df_merged = scores_df.merge(scoresr_df, left_on='Location',right_on='Location' )\n",
    "scores_df_merged"
   ]
  },
  {
   "cell_type": "code",
   "execution_count": 134,
   "metadata": {},
   "outputs": [
    {
     "data": {
      "text/plain": [
       "'To interpret the MSE results they will have to tranformed in a way that is interpertable to the user. Doing some researchon AirBnB website I saw that prices ranged over $100 dollars per evening. This along with trying out diffrent log transformations lead me to conclude that the orginal data is based of minus 100 and the log2 transformation of the orginal price. Thus, I take the log2 transformation of MSE. I will then do the same with our final predictions as well by taking log2 trasnformation of a given prediction'"
      ]
     },
     "execution_count": 134,
     "metadata": {},
     "output_type": "execute_result"
    }
   ],
   "source": [
    "\"\"\"To interpret the MSE results they will have to tranformed in a way that is interpertable to the user. Doing some research\n",
    "on AirBnB website I saw that prices ranged over $100 dollars per evening. This along with trying out diffrent log transformations \n",
    "lead me to conclude that the orginal data is based of minus 100 and the log2 transformation of the orginal price. Thus, \n",
    "I take the log2 transformation of MSE. I will then do the same with our final predictions as well by taking log2 trasnformation of a given prediction\"\"\".replace(\"\\n\",\"\")"
   ]
  },
  {
   "cell_type": "code",
   "execution_count": 132,
   "metadata": {},
   "outputs": [
    {
     "data": {
      "text/plain": [
       "'Based on these results, the model that was created was off by 100 dollars. Given this data was likely masked before being publishedby AirBnB, and by refering to their website, I will add 100 to each of my predictions so as it more accurately reflects the pricesfound on the AirBnB website'"
      ]
     },
     "execution_count": 132,
     "metadata": {},
     "output_type": "execute_result"
    }
   ],
   "source": [
    "\"\"\"Based on these results, the model that was created was off by 100 dollars. Given this data was likely masked before being published\n",
    "by AirBnB, and by refering to their website, I will add 100 to each of my predictions so as it more accurately reflects the prices\n",
    "found on the AirBnB website\"\"\".replace(\"\\n\",\"\")"
   ]
  },
  {
   "cell_type": "code",
   "execution_count": 137,
   "metadata": {},
   "outputs": [
    {
     "data": {
      "text/html": [
       "<div>\n",
       "<style scoped>\n",
       "    .dataframe tbody tr th:only-of-type {\n",
       "        vertical-align: middle;\n",
       "    }\n",
       "\n",
       "    .dataframe tbody tr th {\n",
       "        vertical-align: top;\n",
       "    }\n",
       "\n",
       "    .dataframe thead th {\n",
       "        text-align: right;\n",
       "    }\n",
       "</style>\n",
       "<table border=\"1\" class=\"dataframe\">\n",
       "  <thead>\n",
       "    <tr style=\"text-align: right;\">\n",
       "      <th></th>\n",
       "      <th>Location</th>\n",
       "      <th>MSE</th>\n",
       "      <th>R2</th>\n",
       "      <th>MSE_trans</th>\n",
       "    </tr>\n",
       "  </thead>\n",
       "  <tbody>\n",
       "    <tr>\n",
       "      <th>3</th>\n",
       "      <td>LA</td>\n",
       "      <td>0.191728</td>\n",
       "      <td>0.358528</td>\n",
       "      <td>101.14</td>\n",
       "    </tr>\n",
       "    <tr>\n",
       "      <th>4</th>\n",
       "      <td>NYC</td>\n",
       "      <td>0.275918</td>\n",
       "      <td>0.310660</td>\n",
       "      <td>101.21</td>\n",
       "    </tr>\n",
       "    <tr>\n",
       "      <th>1</th>\n",
       "      <td>Chicago</td>\n",
       "      <td>0.300996</td>\n",
       "      <td>0.326924</td>\n",
       "      <td>101.23</td>\n",
       "    </tr>\n",
       "    <tr>\n",
       "      <th>5</th>\n",
       "      <td>SF</td>\n",
       "      <td>0.328873</td>\n",
       "      <td>0.221190</td>\n",
       "      <td>101.26</td>\n",
       "    </tr>\n",
       "    <tr>\n",
       "      <th>0</th>\n",
       "      <td>Boston</td>\n",
       "      <td>0.333781</td>\n",
       "      <td>0.228437</td>\n",
       "      <td>101.26</td>\n",
       "    </tr>\n",
       "    <tr>\n",
       "      <th>2</th>\n",
       "      <td>DC</td>\n",
       "      <td>0.372702</td>\n",
       "      <td>0.260852</td>\n",
       "      <td>101.29</td>\n",
       "    </tr>\n",
       "  </tbody>\n",
       "</table>\n",
       "</div>"
      ],
      "text/plain": [
       "  Location       MSE        R2  MSE_trans\n",
       "3       LA  0.191728  0.358528     101.14\n",
       "4      NYC  0.275918  0.310660     101.21\n",
       "1  Chicago  0.300996  0.326924     101.23\n",
       "5       SF  0.328873  0.221190     101.26\n",
       "0   Boston  0.333781  0.228437     101.26\n",
       "2       DC  0.372702  0.260852     101.29"
      ]
     },
     "execution_count": 137,
     "metadata": {},
     "output_type": "execute_result"
    }
   ],
   "source": [
    "scores_df_merged['MSE_trans'] = round(2 ** scores_df_merged['MSE'] + 100, 2)\n",
    "scores_df_merged = scores_df_merged.sort_values(by=['MSE'])\n",
    "scores_df_merged"
   ]
  },
  {
   "cell_type": "code",
   "execution_count": 138,
   "metadata": {},
   "outputs": [
    {
     "data": {
      "text/plain": [
       "'Our final result shows that the LA model is the best a predicting the price of a given AirBnB Apartment with an MSE of .19 (101.14) tells us predictions made by this model were the most accurate of the other cities. Additonally, we know that r2 = .35, meaning this model explains 35% of the variabilityfound in our predictor variable log_price.'"
      ]
     },
     "execution_count": 138,
     "metadata": {},
     "output_type": "execute_result"
    }
   ],
   "source": [
    "\"\"\"Our final result shows that the LA model is the best a predicting the price of a given AirBnB Apartment with an MSE of .19 (101.14) tells us \n",
    "predictions made by this model were the most accurate of the other cities. Additonally, we know that r2 = .35, meaning this model explains 35% of the variability\n",
    "found in our predictor variable log_price.\"\"\".replace(\"\\n\",\"\")"
   ]
  },
  {
   "cell_type": "code",
   "execution_count": 121,
   "metadata": {},
   "outputs": [
    {
     "data": {
      "text/html": [
       "<div>\n",
       "<style scoped>\n",
       "    .dataframe tbody tr th:only-of-type {\n",
       "        vertical-align: middle;\n",
       "    }\n",
       "\n",
       "    .dataframe tbody tr th {\n",
       "        vertical-align: top;\n",
       "    }\n",
       "\n",
       "    .dataframe thead th {\n",
       "        text-align: right;\n",
       "    }\n",
       "</style>\n",
       "<table border=\"1\" class=\"dataframe\">\n",
       "  <thead>\n",
       "    <tr style=\"text-align: right;\">\n",
       "      <th></th>\n",
       "      <th>id</th>\n",
       "      <th>accommodates</th>\n",
       "      <th>bathrooms</th>\n",
       "      <th>number_of_reviews</th>\n",
       "      <th>review_scores_rating</th>\n",
       "      <th>bedrooms</th>\n",
       "      <th>host_response_rate</th>\n",
       "      <th>cleaning_fee</th>\n",
       "      <th>host_has_profile_pic</th>\n",
       "      <th>host_identity_verified</th>\n",
       "      <th>instant_bookable</th>\n",
       "      <th>real_log_price</th>\n",
       "      <th>pred_log_price</th>\n",
       "      <th>latitude</th>\n",
       "      <th>longitude</th>\n",
       "      <th>city</th>\n",
       "      <th>neighbourhood</th>\n",
       "      <th>trans_log_price</th>\n",
       "      <th>pred_real_price</th>\n",
       "      <th>diff</th>\n",
       "    </tr>\n",
       "  </thead>\n",
       "  <tbody>\n",
       "    <tr>\n",
       "      <th>0</th>\n",
       "      <td>19856802.0</td>\n",
       "      <td>6.0</td>\n",
       "      <td>1.0</td>\n",
       "      <td>11.0</td>\n",
       "      <td>0.84</td>\n",
       "      <td>2.0</td>\n",
       "      <td>1.0</td>\n",
       "      <td>1</td>\n",
       "      <td>1</td>\n",
       "      <td>1</td>\n",
       "      <td>1</td>\n",
       "      <td>4.094345</td>\n",
       "      <td>4.735397</td>\n",
       "      <td>41.858719</td>\n",
       "      <td>-87.650430</td>\n",
       "      <td>Chicago</td>\n",
       "      <td>Pilsen</td>\n",
       "      <td>117.0</td>\n",
       "      <td>127.0</td>\n",
       "      <td>10.0</td>\n",
       "    </tr>\n",
       "    <tr>\n",
       "      <th>1</th>\n",
       "      <td>3206029.0</td>\n",
       "      <td>2.0</td>\n",
       "      <td>1.0</td>\n",
       "      <td>21.0</td>\n",
       "      <td>0.96</td>\n",
       "      <td>1.0</td>\n",
       "      <td>1.0</td>\n",
       "      <td>1</td>\n",
       "      <td>1</td>\n",
       "      <td>1</td>\n",
       "      <td>1</td>\n",
       "      <td>4.174387</td>\n",
       "      <td>4.235091</td>\n",
       "      <td>41.911928</td>\n",
       "      <td>-87.676809</td>\n",
       "      <td>Chicago</td>\n",
       "      <td>Wicker Park</td>\n",
       "      <td>118.0</td>\n",
       "      <td>119.0</td>\n",
       "      <td>1.0</td>\n",
       "    </tr>\n",
       "    <tr>\n",
       "      <th>2</th>\n",
       "      <td>9996642.0</td>\n",
       "      <td>1.0</td>\n",
       "      <td>1.0</td>\n",
       "      <td>154.0</td>\n",
       "      <td>0.95</td>\n",
       "      <td>1.0</td>\n",
       "      <td>1.0</td>\n",
       "      <td>1</td>\n",
       "      <td>1</td>\n",
       "      <td>1</td>\n",
       "      <td>1</td>\n",
       "      <td>3.806662</td>\n",
       "      <td>3.850856</td>\n",
       "      <td>41.891642</td>\n",
       "      <td>-87.673836</td>\n",
       "      <td>Chicago</td>\n",
       "      <td>West Town/Noble Square</td>\n",
       "      <td>114.0</td>\n",
       "      <td>114.0</td>\n",
       "      <td>0.0</td>\n",
       "    </tr>\n",
       "  </tbody>\n",
       "</table>\n",
       "</div>"
      ],
      "text/plain": [
       "           id  accommodates  bathrooms  number_of_reviews  \\\n",
       "0  19856802.0           6.0        1.0               11.0   \n",
       "1   3206029.0           2.0        1.0               21.0   \n",
       "2   9996642.0           1.0        1.0              154.0   \n",
       "\n",
       "   review_scores_rating  bedrooms  host_response_rate  cleaning_fee  \\\n",
       "0                  0.84       2.0                 1.0             1   \n",
       "1                  0.96       1.0                 1.0             1   \n",
       "2                  0.95       1.0                 1.0             1   \n",
       "\n",
       "   host_has_profile_pic  host_identity_verified  instant_bookable  \\\n",
       "0                     1                       1                 1   \n",
       "1                     1                       1                 1   \n",
       "2                     1                       1                 1   \n",
       "\n",
       "   real_log_price  pred_log_price   latitude  longitude     city  \\\n",
       "0        4.094345        4.735397  41.858719 -87.650430  Chicago   \n",
       "1        4.174387        4.235091  41.911928 -87.676809  Chicago   \n",
       "2        3.806662        3.850856  41.891642 -87.673836  Chicago   \n",
       "\n",
       "            neighbourhood  trans_log_price  pred_real_price  diff  \n",
       "0                  Pilsen            117.0            127.0  10.0  \n",
       "1             Wicker Park            118.0            119.0   1.0  \n",
       "2  West Town/Noble Square            114.0            114.0   0.0  "
      ]
     },
     "execution_count": 121,
     "metadata": {},
     "output_type": "execute_result"
    }
   ],
   "source": [
    "dfs = [CHI_train_pred_df, LA_train_pred_df, SF_train_pred_df, DC_train_pred_df, BOS_train_pred_df, NYC_train_pred_df]\n",
    "final_df = pd.concat(dfs)\n",
    "final_df['trans_log_price'] = round(2 ** final_df['real_log_price'] + 100) \n",
    "final_df['pred_real_price'] = round(2 ** final_df['pred_log_price'] + 100)\n",
    "final_df['diff'] = final_df['pred_real_price'] - final_df['trans_log_price']\n",
    "AirBnB_Predictions = final_df.copy()\n",
    "# Final Dataframe with predictions from each city.\n",
    "AirBnB_Predictions.head(3)"
   ]
  },
  {
   "cell_type": "code",
   "execution_count": 115,
   "metadata": {},
   "outputs": [],
   "source": [
    "AirBnB_Predictions_CSV = AirBnB_Predictions.to_csv(index=False)"
   ]
  },
  {
   "cell_type": "code",
   "execution_count": 116,
   "metadata": {},
   "outputs": [],
   "source": [
    "# Outputed to be fed into Power BI for further visualizaton \n",
    "compression_opts = dict(method='zip',archive_name='AirBnB_Predictions_CSV.csv')  \n",
    "AirBnB_Predictions.to_csv('AirBnBPred.zip', index=False, compression = compression_opts)"
   ]
  },
  {
   "cell_type": "code",
   "execution_count": null,
   "metadata": {},
   "outputs": [],
   "source": []
  },
  {
   "cell_type": "code",
   "execution_count": null,
   "metadata": {},
   "outputs": [],
   "source": []
  }
 ],
 "metadata": {
  "kernelspec": {
   "display_name": "Python 3",
   "language": "python",
   "name": "python3"
  },
  "language_info": {
   "codemirror_mode": {
    "name": "ipython",
    "version": 3
   },
   "file_extension": ".py",
   "mimetype": "text/x-python",
   "name": "python",
   "nbconvert_exporter": "python",
   "pygments_lexer": "ipython3",
   "version": "3.7.6"
  }
 },
 "nbformat": 4,
 "nbformat_minor": 4
}
